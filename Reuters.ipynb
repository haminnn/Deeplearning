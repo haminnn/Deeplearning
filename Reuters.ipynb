{
 "cells": [
  {
   "cell_type": "code",
   "execution_count": 1,
   "id": "576e7269-1783-48aa-98ff-4d8985cf46a3",
   "metadata": {},
   "outputs": [],
   "source": [
    "import numpy as np\n",
    "import matplotlib.pyplot as plt\n",
    "import tensorflow as tf\n",
    "from tensorflow.keras.datasets import reuters\n",
    "from tensorflow.keras import models, layers\n",
    "from tensorflow.keras.preprocessing import sequence\n",
    "from tensorflow.keras import utils"
   ]
  },
  {
   "cell_type": "code",
   "execution_count": 2,
   "id": "ffc9a601-5e8b-4b2f-84d3-ef266baf881f",
   "metadata": {},
   "outputs": [],
   "source": [
    "seed = 0\n",
    "np.random.seed(seed)\n",
    "tf.random.set_seed(3)"
   ]
  },
  {
   "cell_type": "code",
   "execution_count": 3,
   "id": "00c469fe-4e0b-4e86-b3c3-bd76f8663341",
   "metadata": {},
   "outputs": [
    {
     "name": "stdout",
     "output_type": "stream",
     "text": [
      "category: 46\n",
      "train set: 8982\n",
      "test set: 2246\n"
     ]
    },
    {
     "name": "stderr",
     "output_type": "stream",
     "text": [
      "C:\\Users\\BIT\\miniconda3\\envs\\tf-env\\lib\\site-packages\\tensorflow\\python\\keras\\datasets\\reuters.py:148: VisibleDeprecationWarning: Creating an ndarray from ragged nested sequences (which is a list-or-tuple of lists-or-tuples-or ndarrays with different lengths or shapes) is deprecated. If you meant to do this, you must specify 'dtype=object' when creating the ndarray\n",
      "  x_train, y_train = np.array(xs[:idx]), np.array(labels[:idx])\n",
      "C:\\Users\\BIT\\miniconda3\\envs\\tf-env\\lib\\site-packages\\tensorflow\\python\\keras\\datasets\\reuters.py:149: VisibleDeprecationWarning: Creating an ndarray from ragged nested sequences (which is a list-or-tuple of lists-or-tuples-or ndarrays with different lengths or shapes) is deprecated. If you meant to do this, you must specify 'dtype=object' when creating the ndarray\n",
      "  x_test, y_test = np.array(xs[idx:]), np.array(labels[idx:])\n"
     ]
    }
   ],
   "source": [
    "(X_train, y_train), (X_test, y_test) = reuters.load_data(num_words = 1000, test_split = 0.2)\n",
    "\n",
    "category = np.max(y_train) + 1\n",
    "print('category:',category)\n",
    "print('train set:', len(X_train))\n",
    "print('test set:', len(X_test))"
   ]
  },
  {
   "cell_type": "code",
   "execution_count": 4,
   "id": "a96449ce-714e-4c98-8e14-5f2e62105b3d",
   "metadata": {},
   "outputs": [
    {
     "name": "stdout",
     "output_type": "stream",
     "text": [
      "[1, 2, 2, 8, 43, 10, 447, 5, 25, 207, 270, 5, 2, 111, 16, 369, 186, 90, 67, 7, 89, 5, 19, 102, 6, 19, 124, 15, 90, 67, 84, 22, 482, 26, 7, 48, 4, 49, 8, 864, 39, 209, 154, 6, 151, 6, 83, 11, 15, 22, 155, 11, 15, 7, 48, 9, 2, 2, 504, 6, 258, 6, 272, 11, 15, 22, 134, 44, 11, 15, 16, 8, 197, 2, 90, 67, 52, 29, 209, 30, 32, 132, 6, 109, 15, 17, 12]\n"
     ]
    }
   ],
   "source": [
    "print(X_train[0])"
   ]
  },
  {
   "cell_type": "code",
   "execution_count": 5,
   "id": "87fcfcac-a86a-480c-825d-45c4759d92ac",
   "metadata": {},
   "outputs": [],
   "source": [
    "X_train = sequence.pad_sequences(X_train, maxlen=100)\n",
    "X_test = sequence.pad_sequences(X_test, maxlen=100)\n",
    "y_train = utils.to_categorical(y_train)\n",
    "y_test = utils.to_categorical(y_test)"
   ]
  },
  {
   "cell_type": "code",
   "execution_count": 8,
   "id": "c173420f-67e0-40e8-bf0d-19e85dbfe404",
   "metadata": {},
   "outputs": [
    {
     "name": "stdout",
     "output_type": "stream",
     "text": [
      "Model: \"sequential_2\"\n",
      "_________________________________________________________________\n",
      "Layer (type)                 Output Shape              Param #   \n",
      "=================================================================\n",
      "embedding_2 (Embedding)      (None, None, 100)         100000    \n",
      "_________________________________________________________________\n",
      "lstm_2 (LSTM)                (None, 100)               80400     \n",
      "_________________________________________________________________\n",
      "dense_2 (Dense)              (None, 46)                4646      \n",
      "=================================================================\n",
      "Total params: 185,046\n",
      "Trainable params: 185,046\n",
      "Non-trainable params: 0\n",
      "_________________________________________________________________\n"
     ]
    }
   ],
   "source": [
    "model = models.Sequential()\n",
    "model.add(layers.Embedding(1000,100))\n",
    "model.add(layers.LSTM(100, activation = 'tanh')) #앞단어의 입력이 100이고 이전 출력차원이 100이면 w =(100 + 100), 100이고 b = 100이므로 전체갯수는 4*(100 + 100) * 100 +100\n",
    "model.add(layers.Dense(46, activation = 'softmax')) # 위 전체 갯수를 일반식으로 표현하면 4*((output + input) * output + output(bias))\n",
    "\n",
    "model.summary()"
   ]
  },
  {
   "cell_type": "code",
   "execution_count": 9,
   "id": "f80af4cd-c1aa-4785-aaff-fcc508ceb633",
   "metadata": {},
   "outputs": [],
   "source": [
    "model.compile(loss='categorical_crossentropy', optimizer = 'adam', metrics = ['accuracy'])"
   ]
  },
  {
   "cell_type": "code",
   "execution_count": 10,
   "id": "03c765f9-d1dc-4b91-b576-9a2a77502c75",
   "metadata": {},
   "outputs": [
    {
     "name": "stdout",
     "output_type": "stream",
     "text": [
      "Epoch 1/20\n",
      "90/90 [==============================] - 10s 106ms/step - loss: 2.5967 - accuracy: 0.3473 - val_loss: 2.3854 - val_accuracy: 0.3620\n",
      "Epoch 2/20\n",
      "90/90 [==============================] - 9s 100ms/step - loss: 2.0804 - accuracy: 0.4693 - val_loss: 2.0024 - val_accuracy: 0.5089\n",
      "Epoch 3/20\n",
      "90/90 [==============================] - 9s 96ms/step - loss: 1.8765 - accuracy: 0.5085 - val_loss: 1.9883 - val_accuracy: 0.4439\n",
      "Epoch 4/20\n",
      "90/90 [==============================] - 9s 97ms/step - loss: 1.7911 - accuracy: 0.5299 - val_loss: 1.7414 - val_accuracy: 0.5516\n",
      "Epoch 5/20\n",
      "90/90 [==============================] - 9s 96ms/step - loss: 1.6922 - accuracy: 0.5615 - val_loss: 1.7076 - val_accuracy: 0.5677\n",
      "Epoch 6/20\n",
      "90/90 [==============================] - 9s 96ms/step - loss: 1.6369 - accuracy: 0.5816 - val_loss: 1.6450 - val_accuracy: 0.5868\n",
      "Epoch 7/20\n",
      "90/90 [==============================] - 9s 95ms/step - loss: 1.5583 - accuracy: 0.6039 - val_loss: 1.5633 - val_accuracy: 0.6091\n",
      "Epoch 8/20\n",
      "90/90 [==============================] - 8s 94ms/step - loss: 1.4932 - accuracy: 0.6196 - val_loss: 1.5071 - val_accuracy: 0.6264\n",
      "Epoch 9/20\n",
      "90/90 [==============================] - 8s 94ms/step - loss: 1.3688 - accuracy: 0.6458 - val_loss: 1.4645 - val_accuracy: 0.6336\n",
      "Epoch 10/20\n",
      "90/90 [==============================] - 9s 95ms/step - loss: 1.2803 - accuracy: 0.6688 - val_loss: 1.3682 - val_accuracy: 0.6541\n",
      "Epoch 11/20\n",
      "90/90 [==============================] - 9s 95ms/step - loss: 1.2027 - accuracy: 0.6933 - val_loss: 1.3140 - val_accuracy: 0.6719\n",
      "Epoch 12/20\n",
      "90/90 [==============================] - 8s 94ms/step - loss: 1.1402 - accuracy: 0.7103 - val_loss: 1.2793 - val_accuracy: 0.6794\n",
      "Epoch 13/20\n",
      "90/90 [==============================] - 9s 95ms/step - loss: 1.0870 - accuracy: 0.7228 - val_loss: 1.2660 - val_accuracy: 0.6808\n",
      "Epoch 14/20\n",
      "90/90 [==============================] - 9s 96ms/step - loss: 1.0363 - accuracy: 0.7400 - val_loss: 1.2109 - val_accuracy: 0.6968\n",
      "Epoch 15/20\n",
      "90/90 [==============================] - 9s 95ms/step - loss: 0.9903 - accuracy: 0.7522 - val_loss: 1.2243 - val_accuracy: 0.6986\n",
      "Epoch 16/20\n",
      "90/90 [==============================] - 8s 94ms/step - loss: 0.9412 - accuracy: 0.7666 - val_loss: 1.2154 - val_accuracy: 0.6950\n",
      "Epoch 17/20\n",
      "90/90 [==============================] - 9s 95ms/step - loss: 0.9039 - accuracy: 0.7735 - val_loss: 1.1921 - val_accuracy: 0.7097\n",
      "Epoch 18/20\n",
      "90/90 [==============================] - 9s 95ms/step - loss: 0.8623 - accuracy: 0.7837 - val_loss: 1.1603 - val_accuracy: 0.7110\n",
      "Epoch 19/20\n",
      "90/90 [==============================] - 9s 95ms/step - loss: 0.8405 - accuracy: 0.7884 - val_loss: 1.1865 - val_accuracy: 0.7110\n",
      "Epoch 20/20\n",
      "90/90 [==============================] - 9s 96ms/step - loss: 0.7837 - accuracy: 0.8013 - val_loss: 1.2147 - val_accuracy: 0.7097\n"
     ]
    }
   ],
   "source": [
    "history = model.fit(X_train, y_train, batch_size = 100, epochs = 20, validation_data = (X_test, y_test))"
   ]
  },
  {
   "cell_type": "code",
   "execution_count": 11,
   "id": "327d152f-8cbc-4664-8fd4-43a23f5a92fb",
   "metadata": {},
   "outputs": [
    {
     "name": "stdout",
     "output_type": "stream",
     "text": [
      "71/71 [==============================] - 1s 17ms/step - loss: 1.2147 - accuracy: 0.7097\n",
      "Test Accuracy: 0.7097\n"
     ]
    }
   ],
   "source": [
    "print('Test Accuracy: %.4f' % (model.evaluate(X_test,y_test)[1]))"
   ]
  },
  {
   "cell_type": "code",
   "execution_count": 12,
   "id": "1469058b-f633-4f97-817f-44db1ec243b6",
   "metadata": {},
   "outputs": [
    {
     "data": {
      "image/png": "[encoded data removed]",
      "text/plain": [
       "<Figure size 432x288 with 1 Axes>"
      ]
     },
     "metadata": {
      "needs_background": "light"
     },
     "output_type": "display_data"
    }
   ],
   "source": [
    "y_vloss = history.history['val_loss']\n",
    "y_loss = history.history['loss']\n",
    "x_len = np.arange(len(y_loss))\n",
    "plt.plot(x_len, y_vloss, marker='.', c=\"red\", label='Testset_loss')\n",
    "plt.plot(x_len, y_loss, marker='.', c=\"blue\", label='Trainset_loss')\n",
    "plt.legend(loc='upper right')\n",
    "plt.grid()\n",
    "plt.xlabel('epoch')\n",
    "plt.ylabel('loss')\n",
    "plt.show()"
   ]
  },
  {
   "cell_type": "code",
   "execution_count": null,
   "id": "138ecc2f-f286-4a3b-aa44-e26d514a1f3c",
   "metadata": {},
   "outputs": [],
   "source": []
  }
 ],
 "metadata": {
  "kernelspec": {
   "display_name": "Python 3 (ipykernel)",
   "language": "python",
   "name": "python3"
  },
  "language_info": {
   "codemirror_mode": {
    "name": "ipython",
    "version": 3
   },
   "file_extension": ".py",
   "mimetype": "text/x-python",
   "name": "python",
   "nbconvert_exporter": "python",
   "pygments_lexer": "ipython3",
   "version": "3.8.13"
  }
 },
 "nbformat": 4,
 "nbformat_minor": 5
}
