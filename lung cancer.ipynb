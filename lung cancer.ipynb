{
 "cells": [
  {
   "cell_type": "code",
   "execution_count": 3,
   "id": "83d41211-2fb0-494d-a654-a20408381033",
   "metadata": {},
   "outputs": [],
   "source": [
    "from tensorflow.keras import models, layers\n",
    "import numpy as np\n",
    "import tensorflow as tf"
   ]
  },
  {
   "cell_type": "code",
   "execution_count": 4,
   "id": "4a327bd3-5295-4052-b773-dd527194f534",
   "metadata": {},
   "outputs": [],
   "source": [
    "np.random.seed(3)\n",
    "tf.random.set_seed(3)"
   ]
  },
  {
   "cell_type": "code",
   "execution_count": 5,
   "id": "7fecd75e-e585-4592-a5d4-057b784a9993",
   "metadata": {},
   "outputs": [],
   "source": [
    "data_set = np.loadtxt('data/ThoraricSurgery.csv', delimiter=',')"
   ]
  },
  {
   "cell_type": "code",
   "execution_count": 6,
   "id": "8a20c0b8-bcfa-4deb-bf22-f19e3edfa8c7",
   "metadata": {},
   "outputs": [
    {
     "name": "stdout",
     "output_type": "stream",
     "text": [
      "[293.    1.    3.8   2.8   0.    0.    0.    0.    0.    0.   12.    0.\n",
      "   0.    0.    1.    0.   62. ]\n"
     ]
    }
   ],
   "source": [
    "X = data_set[:,0:17]\n",
    "Y = data_set[:, 17]\n",
    "print(X[0])"
   ]
  },
  {
   "cell_type": "code",
   "execution_count": 7,
   "id": "8fb0d6cf-be42-46c3-a014-b32a64d6236b",
   "metadata": {},
   "outputs": [
    {
     "name": "stdout",
     "output_type": "stream",
     "text": [
      "0.0\n"
     ]
    }
   ],
   "source": [
    "print(Y[0])"
   ]
  },
  {
   "cell_type": "code",
   "execution_count": 10,
   "id": "e13b7573-82f4-4724-80f7-e15990474e6f",
   "metadata": {},
   "outputs": [],
   "source": [
    "model = models.Sequential()\n",
    "model.add(layers.Dense(30, input_dim=17, activation='relu'))\n",
    "model.add(layers.Dense(1, activation='sigmoid'))\n",
    "\n"
   ]
  },
  {
   "cell_type": "code",
   "execution_count": 16,
   "id": "3518d687-d6e1-4242-a053-4550ce40c58d",
   "metadata": {},
   "outputs": [
    {
     "name": "stdout",
     "output_type": "stream",
     "text": [
      "Model: \"sequential_4\"\n",
      "_________________________________________________________________\n",
      "Layer (type)                 Output Shape              Param #   \n",
      "=================================================================\n",
      "dense_4 (Dense)              (None, 30)                540       \n",
      "_________________________________________________________________\n",
      "dense_5 (Dense)              (None, 1)                 31        \n",
      "=================================================================\n",
      "Total params: 571\n",
      "Trainable params: 571\n",
      "Non-trainable params: 0\n",
      "_________________________________________________________________\n"
     ]
    }
   ],
   "source": [
    "model.summary()"
   ]
  },
  {
   "cell_type": "code",
   "execution_count": 22,
   "id": "f505ead8-1fe2-49c7-8b10-3b07089392b7",
   "metadata": {},
   "outputs": [
    {
     "name": "stdout",
     "output_type": "stream",
     "text": [
      "Epoch 1/100\n",
      "47/47 [==============================] - 0s 865us/step - loss: 84.6380 - accuracy: 0.1702\n",
      "Epoch 2/100\n",
      "47/47 [==============================] - 0s 754us/step - loss: 25.6956 - accuracy: 0.3553\n",
      "Epoch 3/100\n",
      "47/47 [==============================] - 0s 682us/step - loss: 3.1030 - accuracy: 0.7915\n",
      "Epoch 4/100\n",
      "47/47 [==============================] - 0s 418us/step - loss: 2.5908 - accuracy: 0.8043\n",
      "Epoch 5/100\n",
      "47/47 [==============================] - 0s 755us/step - loss: 2.2164 - accuracy: 0.7894\n",
      "Epoch 6/100\n",
      "47/47 [==============================] - 0s 1ms/step - loss: 1.7757 - accuracy: 0.7830\n",
      "Epoch 7/100\n",
      "47/47 [==============================] - 0s 1ms/step - loss: 1.3492 - accuracy: 0.7766\n",
      "Epoch 8/100\n",
      "47/47 [==============================] - 0s 704us/step - loss: 0.9153 - accuracy: 0.7766\n",
      "Epoch 9/100\n",
      "47/47 [==============================] - 0s 687us/step - loss: 0.7956 - accuracy: 0.7787\n",
      "Epoch 10/100\n",
      "47/47 [==============================] - 0s 688us/step - loss: 0.7325 - accuracy: 0.7915\n",
      "Epoch 11/100\n",
      "47/47 [==============================] - 0s 709us/step - loss: 0.6583 - accuracy: 0.8043\n",
      "Epoch 12/100\n",
      "47/47 [==============================] - 0s 467us/step - loss: 0.6066 - accuracy: 0.8043\n",
      "Epoch 13/100\n",
      "47/47 [==============================] - 0s 708us/step - loss: 0.5768 - accuracy: 0.8213\n",
      "Epoch 14/100\n",
      "47/47 [==============================] - 0s 709us/step - loss: 0.5391 - accuracy: 0.8085\n",
      "Epoch 15/100\n",
      "47/47 [==============================] - 0s 709us/step - loss: 0.5543 - accuracy: 0.8170\n",
      "Epoch 16/100\n",
      "47/47 [==============================] - 0s 708us/step - loss: 0.5044 - accuracy: 0.8447\n",
      "Epoch 17/100\n",
      "47/47 [==============================] - 0s 689us/step - loss: 0.5324 - accuracy: 0.8277\n",
      "Epoch 18/100\n",
      "47/47 [==============================] - 0s 444us/step - loss: 0.4671 - accuracy: 0.8426\n",
      "Epoch 19/100\n",
      "47/47 [==============================] - 0s 1ms/step - loss: 0.4669 - accuracy: 0.8426\n",
      "Epoch 20/100\n",
      "47/47 [==============================] - 0s 710us/step - loss: 0.4567 - accuracy: 0.8383\n",
      "Epoch 21/100\n",
      "47/47 [==============================] - 0s 751us/step - loss: 0.4610 - accuracy: 0.8468\n",
      "Epoch 22/100\n",
      "47/47 [==============================] - 0s 537us/step - loss: 0.4438 - accuracy: 0.8489\n",
      "Epoch 23/100\n",
      "47/47 [==============================] - 0s 706us/step - loss: 0.4388 - accuracy: 0.8511\n",
      "Epoch 24/100\n",
      "47/47 [==============================] - 0s 710us/step - loss: 0.4636 - accuracy: 0.8340\n",
      "Epoch 25/100\n",
      "47/47 [==============================] - 0s 666us/step - loss: 0.4414 - accuracy: 0.8447\n",
      "Epoch 26/100\n",
      "47/47 [==============================] - 0s 301us/step - loss: 0.4569 - accuracy: 0.8383\n",
      "Epoch 27/100\n",
      "47/47 [==============================] - 0s 351us/step - loss: 0.4729 - accuracy: 0.8383\n",
      "Epoch 28/100\n",
      "47/47 [==============================] - 0s 410us/step - loss: 0.4413 - accuracy: 0.8511\n",
      "Epoch 29/100\n",
      "47/47 [==============================] - 0s 709us/step - loss: 0.4397 - accuracy: 0.8468\n",
      "Epoch 30/100\n",
      "47/47 [==============================] - 0s 713us/step - loss: 0.4356 - accuracy: 0.8447\n",
      "Epoch 31/100\n",
      "47/47 [==============================] - 0s 349us/step - loss: 0.4675 - accuracy: 0.8511\n",
      "Epoch 32/100\n",
      "47/47 [==============================] - 0s 344us/step - loss: 0.4332 - accuracy: 0.8468\n",
      "Epoch 33/100\n",
      "47/47 [==============================] - 0s 1ms/step - loss: 0.4749 - accuracy: 0.8383\n",
      "Epoch 34/100\n",
      "47/47 [==============================] - 0s 774us/step - loss: 0.4286 - accuracy: 0.8553\n",
      "Epoch 35/100\n",
      "47/47 [==============================] - 0s 440us/step - loss: 0.4491 - accuracy: 0.8447\n",
      "Epoch 36/100\n",
      "47/47 [==============================] - 0s 797us/step - loss: 0.4335 - accuracy: 0.8489\n",
      "Epoch 37/100\n",
      "47/47 [==============================] - 0s 725us/step - loss: 0.4786 - accuracy: 0.8468\n",
      "Epoch 38/100\n",
      "47/47 [==============================] - 0s 789us/step - loss: 0.4391 - accuracy: 0.8447\n",
      "Epoch 39/100\n",
      "47/47 [==============================] - 0s 753us/step - loss: 0.4577 - accuracy: 0.8362\n",
      "Epoch 40/100\n",
      "47/47 [==============================] - 0s 838us/step - loss: 0.4358 - accuracy: 0.8553\n",
      "Epoch 41/100\n",
      "47/47 [==============================] - 0s 763us/step - loss: 0.4330 - accuracy: 0.8553\n",
      "Epoch 42/100\n",
      "47/47 [==============================] - 0s 712us/step - loss: 0.4966 - accuracy: 0.8319\n",
      "Epoch 43/100\n",
      "47/47 [==============================] - 0s 855us/step - loss: 0.4267 - accuracy: 0.8468\n",
      "Epoch 44/100\n",
      "47/47 [==============================] - 0s 769us/step - loss: 0.4228 - accuracy: 0.8447\n",
      "Epoch 45/100\n",
      "47/47 [==============================] - 0s 791us/step - loss: 0.4277 - accuracy: 0.8447\n",
      "Epoch 46/100\n",
      "47/47 [==============================] - 0s 768us/step - loss: 0.4229 - accuracy: 0.8468\n",
      "Epoch 47/100\n",
      "47/47 [==============================] - 0s 711us/step - loss: 0.4395 - accuracy: 0.8277\n",
      "Epoch 48/100\n",
      "47/47 [==============================] - 0s 752us/step - loss: 0.4270 - accuracy: 0.8511\n",
      "Epoch 49/100\n",
      "47/47 [==============================] - 0s 721us/step - loss: 0.4194 - accuracy: 0.8447\n",
      "Epoch 50/100\n",
      "47/47 [==============================] - 0s 575us/step - loss: 0.4171 - accuracy: 0.8468\n",
      "Epoch 51/100\n",
      "47/47 [==============================] - 0s 847us/step - loss: 0.4295 - accuracy: 0.8489\n",
      "Epoch 52/100\n",
      "47/47 [==============================] - 0s 645us/step - loss: 0.4151 - accuracy: 0.8553\n",
      "Epoch 53/100\n",
      "47/47 [==============================] - 0s 647us/step - loss: 0.4219 - accuracy: 0.8468\n",
      "Epoch 54/100\n",
      "47/47 [==============================] - 0s 688us/step - loss: 0.4267 - accuracy: 0.8468\n",
      "Epoch 55/100\n",
      "47/47 [==============================] - 0s 602us/step - loss: 0.4384 - accuracy: 0.8362\n",
      "Epoch 56/100\n",
      "47/47 [==============================] - 0s 624us/step - loss: 0.4177 - accuracy: 0.8489\n",
      "Epoch 57/100\n",
      "47/47 [==============================] - 0s 883us/step - loss: 0.4301 - accuracy: 0.8511\n",
      "Epoch 58/100\n",
      "47/47 [==============================] - 0s 456us/step - loss: 0.4345 - accuracy: 0.8511\n",
      "Epoch 59/100\n",
      "47/47 [==============================] - 0s 964us/step - loss: 0.4154 - accuracy: 0.8574\n",
      "Epoch 60/100\n",
      "47/47 [==============================] - 0s 843us/step - loss: 0.4053 - accuracy: 0.8574\n",
      "Epoch 61/100\n",
      "47/47 [==============================] - 0s 867us/step - loss: 0.4179 - accuracy: 0.8532\n",
      "Epoch 62/100\n",
      "47/47 [==============================] - 0s 772us/step - loss: 0.4214 - accuracy: 0.8468\n",
      "Epoch 63/100\n",
      "47/47 [==============================] - ETA: 0s - loss: 0.1396 - accuracy: 1.00 - 0s 459us/step - loss: 0.4290 - accuracy: 0.8489\n",
      "Epoch 64/100\n",
      "47/47 [==============================] - 0s 784us/step - loss: 0.4557 - accuracy: 0.8447\n",
      "Epoch 65/100\n",
      "47/47 [==============================] - 0s 761us/step - loss: 0.4069 - accuracy: 0.8553\n",
      "Epoch 66/100\n",
      "47/47 [==============================] - 0s 800us/step - loss: 0.4559 - accuracy: 0.8404\n",
      "Epoch 67/100\n",
      "47/47 [==============================] - 0s 793us/step - loss: 0.4168 - accuracy: 0.8489\n",
      "Epoch 68/100\n",
      "47/47 [==============================] - 0s 465us/step - loss: 0.4264 - accuracy: 0.8574\n",
      "Epoch 69/100\n",
      "47/47 [==============================] - 0s 816us/step - loss: 0.4519 - accuracy: 0.8468\n",
      "Epoch 70/100\n",
      "47/47 [==============================] - 0s 751us/step - loss: 0.4270 - accuracy: 0.8596\n",
      "Epoch 71/100\n",
      "47/47 [==============================] - 0s 604us/step - loss: 0.4023 - accuracy: 0.8511\n",
      "Epoch 72/100\n",
      "47/47 [==============================] - 0s 905us/step - loss: 0.4479 - accuracy: 0.8277\n",
      "Epoch 73/100\n",
      "47/47 [==============================] - 0s 848us/step - loss: 0.4747 - accuracy: 0.8489\n",
      "Epoch 74/100\n",
      "47/47 [==============================] - 0s 666us/step - loss: 0.4185 - accuracy: 0.8553\n",
      "Epoch 75/100\n",
      "47/47 [==============================] - 0s 309us/step - loss: 0.4107 - accuracy: 0.8532\n",
      "Epoch 76/100\n",
      "47/47 [==============================] - 0s 1ms/step - loss: 0.4393 - accuracy: 0.8489\n",
      "Epoch 77/100\n",
      "47/47 [==============================] - 0s 601us/step - loss: 0.4203 - accuracy: 0.8511\n",
      "Epoch 78/100\n",
      "47/47 [==============================] - 0s 308us/step - loss: 0.4513 - accuracy: 0.8617\n",
      "Epoch 79/100\n",
      "47/47 [==============================] - 0s 510us/step - loss: 0.4271 - accuracy: 0.8404\n",
      "Epoch 80/100\n",
      "47/47 [==============================] - 0s 599us/step - loss: 0.4164 - accuracy: 0.8468\n",
      "Epoch 81/100\n",
      "47/47 [==============================] - 0s 834us/step - loss: 0.4666 - accuracy: 0.8447\n",
      "Epoch 82/100\n",
      "47/47 [==============================] - 0s 583us/step - loss: 0.4831 - accuracy: 0.8532\n",
      "Epoch 83/100\n",
      "47/47 [==============================] - 0s 708us/step - loss: 0.4330 - accuracy: 0.8532\n",
      "Epoch 84/100\n",
      "47/47 [==============================] - 0s 603us/step - loss: 0.4264 - accuracy: 0.8426\n",
      "Epoch 85/100\n",
      "47/47 [==============================] - 0s 603us/step - loss: 0.4172 - accuracy: 0.8489\n",
      "Epoch 86/100\n",
      "47/47 [==============================] - 0s 430us/step - loss: 0.4059 - accuracy: 0.8511\n",
      "Epoch 87/100\n",
      "47/47 [==============================] - 0s 710us/step - loss: 0.4282 - accuracy: 0.8447\n",
      "Epoch 88/100\n",
      "47/47 [==============================] - 0s 731us/step - loss: 0.4083 - accuracy: 0.8468\n",
      "Epoch 89/100\n",
      "47/47 [==============================] - 0s 730us/step - loss: 0.4060 - accuracy: 0.8468\n",
      "Epoch 90/100\n",
      "47/47 [==============================] - 0s 623us/step - loss: 0.4338 - accuracy: 0.8574\n",
      "Epoch 91/100\n",
      "47/47 [==============================] - 0s 717us/step - loss: 0.4516 - accuracy: 0.8511\n",
      "Epoch 92/100\n",
      "47/47 [==============================] - 0s 709us/step - loss: 0.4210 - accuracy: 0.8617\n",
      "Epoch 93/100\n",
      "47/47 [==============================] - 0s 666us/step - loss: 0.4538 - accuracy: 0.8468\n",
      "Epoch 94/100\n",
      "47/47 [==============================] - 0s 728us/step - loss: 0.4343 - accuracy: 0.8404\n",
      "Epoch 95/100\n",
      "47/47 [==============================] - 0s 656us/step - loss: 0.4084 - accuracy: 0.8511\n",
      "Epoch 96/100\n",
      "47/47 [==============================] - 0s 785us/step - loss: 0.4933 - accuracy: 0.8319\n",
      "Epoch 97/100\n",
      "47/47 [==============================] - 0s 615us/step - loss: 0.4565 - accuracy: 0.8340\n",
      "Epoch 98/100\n",
      "47/47 [==============================] - 0s 666us/step - loss: 0.4340 - accuracy: 0.8404\n",
      "Epoch 99/100\n",
      "47/47 [==============================] - 0s 729us/step - loss: 0.4481 - accuracy: 0.8532\n",
      "Epoch 100/100\n",
      "47/47 [==============================] - 0s 711us/step - loss: 0.4123 - accuracy: 0.8468\n"
     ]
    },
    {
     "data": {
      "text/plain": [
       "<tensorflow.python.keras.callbacks.History at 0x1a4207d3d60>"
      ]
     },
     "execution_count": 22,
     "metadata": {},
     "output_type": "execute_result"
    }
   ],
   "source": [
    "model.compile(loss='binary_crossentropy', optimizer='adam', metrics = ['accuracy'])\n",
    "model.fit(X, Y, epochs=100, batch_size=10)"
   ]
  },
  {
   "cell_type": "code",
   "execution_count": null,
   "id": "33ea8107-a637-47c5-9513-f6ac309633d1",
   "metadata": {},
   "outputs": [],
   "source": []
  }
 ],
 "metadata": {
  "kernelspec": {
   "display_name": "Python 3 (ipykernel)",
   "language": "python",
   "name": "python3"
  },
  "language_info": {
   "codemirror_mode": {
    "name": "ipython",
    "version": 3
   },
   "file_extension": ".py",
   "mimetype": "text/x-python",
   "name": "python",
   "nbconvert_exporter": "python",
   "pygments_lexer": "ipython3",
   "version": "3.8.13"
  }
 },
 "nbformat": 4,
 "nbformat_minor": 5
}
