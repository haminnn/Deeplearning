{
 "cells": [
  {
   "cell_type": "code",
   "execution_count": 1,
   "id": "b59792ba-1eba-4b3b-9612-c8937e1905a3",
   "metadata": {},
   "outputs": [],
   "source": [
    "from tensorflow.keras import models, layers\n",
    "from sklearn.preprocessing import LabelEncoder\n",
    "from sklearn.model_selection import train_test_split\n",
    "import pandas as pd\n",
    "import numpy as np\n",
    "import tensorflow as tf"
   ]
  },
  {
   "cell_type": "code",
   "execution_count": 4,
   "id": "64994115-80d9-4601-b211-c80fba80e1e0",
   "metadata": {},
   "outputs": [],
   "source": [
    "seed = 0\n",
    "np.random.seed(seed)\n",
    "tf.random.set_seed(3)"
   ]
  },
  {
   "cell_type": "code",
   "execution_count": 5,
   "id": "249dc4e5-dddd-4e12-b2cd-d2f83b7ae100",
   "metadata": {},
   "outputs": [],
   "source": [
    "df=pd.read_csv('data/sonar.csv', header= None)"
   ]
  },
  {
   "cell_type": "code",
   "execution_count": 6,
   "id": "02490dc5-43a0-4cd1-abde-00341a563a90",
   "metadata": {},
   "outputs": [
    {
     "name": "stdout",
     "output_type": "stream",
     "text": [
      "<class 'pandas.core.frame.DataFrame'>\n",
      "RangeIndex: 208 entries, 0 to 207\n",
      "Data columns (total 61 columns):\n",
      " #   Column  Non-Null Count  Dtype  \n",
      "---  ------  --------------  -----  \n",
      " 0   0       208 non-null    float64\n",
      " 1   1       208 non-null    float64\n",
      " 2   2       208 non-null    float64\n",
      " 3   3       208 non-null    float64\n",
      " 4   4       208 non-null    float64\n",
      " 5   5       208 non-null    float64\n",
      " 6   6       208 non-null    float64\n",
      " 7   7       208 non-null    float64\n",
      " 8   8       208 non-null    float64\n",
      " 9   9       208 non-null    float64\n",
      " 10  10      208 non-null    float64\n",
      " 11  11      208 non-null    float64\n",
      " 12  12      208 non-null    float64\n",
      " 13  13      208 non-null    float64\n",
      " 14  14      208 non-null    float64\n",
      " 15  15      208 non-null    float64\n",
      " 16  16      208 non-null    float64\n",
      " 17  17      208 non-null    float64\n",
      " 18  18      208 non-null    float64\n",
      " 19  19      208 non-null    float64\n",
      " 20  20      208 non-null    float64\n",
      " 21  21      208 non-null    float64\n",
      " 22  22      208 non-null    float64\n",
      " 23  23      208 non-null    float64\n",
      " 24  24      208 non-null    float64\n",
      " 25  25      208 non-null    float64\n",
      " 26  26      208 non-null    float64\n",
      " 27  27      208 non-null    float64\n",
      " 28  28      208 non-null    float64\n",
      " 29  29      208 non-null    float64\n",
      " 30  30      208 non-null    float64\n",
      " 31  31      208 non-null    float64\n",
      " 32  32      208 non-null    float64\n",
      " 33  33      208 non-null    float64\n",
      " 34  34      208 non-null    float64\n",
      " 35  35      208 non-null    float64\n",
      " 36  36      208 non-null    float64\n",
      " 37  37      208 non-null    float64\n",
      " 38  38      208 non-null    float64\n",
      " 39  39      208 non-null    float64\n",
      " 40  40      208 non-null    float64\n",
      " 41  41      208 non-null    float64\n",
      " 42  42      208 non-null    float64\n",
      " 43  43      208 non-null    float64\n",
      " 44  44      208 non-null    float64\n",
      " 45  45      208 non-null    float64\n",
      " 46  46      208 non-null    float64\n",
      " 47  47      208 non-null    float64\n",
      " 48  48      208 non-null    float64\n",
      " 49  49      208 non-null    float64\n",
      " 50  50      208 non-null    float64\n",
      " 51  51      208 non-null    float64\n",
      " 52  52      208 non-null    float64\n",
      " 53  53      208 non-null    float64\n",
      " 54  54      208 non-null    float64\n",
      " 55  55      208 non-null    float64\n",
      " 56  56      208 non-null    float64\n",
      " 57  57      208 non-null    float64\n",
      " 58  58      208 non-null    float64\n",
      " 59  59      208 non-null    float64\n",
      " 60  60      208 non-null    object \n",
      "dtypes: float64(60), object(1)\n",
      "memory usage: 99.2+ KB\n",
      "None\n"
     ]
    }
   ],
   "source": [
    "print(df.info())"
   ]
  },
  {
   "cell_type": "code",
   "execution_count": 7,
   "id": "032470db-af8d-439e-9330-293919f2f09d",
   "metadata": {},
   "outputs": [],
   "source": [
    "dataset = df.values\n",
    "x = dataset[:, 0:60].astype(float)\n",
    "y = dataset[:,60]"
   ]
  },
  {
   "cell_type": "code",
   "execution_count": 8,
   "id": "4cfc73ee-e4f1-4c40-9410-ef011d08e959",
   "metadata": {},
   "outputs": [
    {
     "name": "stdout",
     "output_type": "stream",
     "text": [
      "[1 1 1 1 1 1 1 1 1 1 1 1 1 1 1 1 1 1 1 1 1 1 1 1 1 1 1 1 1 1 1 1 1 1 1 1 1\n",
      " 1 1 1 1 1 1 1 1 1 1 1 1 1 1 1 1 1 1 1 1 1 1 1 1 1 1 1 1 1 1 1 1 1 1 1 1 1\n",
      " 1 1 1 1 1 1 1 1 1 1 1 1 1 1 1 1 1 1 1 1 1 1 1 0 0 0 0 0 0 0 0 0 0 0 0 0 0\n",
      " 0 0 0 0 0 0 0 0 0 0 0 0 0 0 0 0 0 0 0 0 0 0 0 0 0 0 0 0 0 0 0 0 0 0 0 0 0\n",
      " 0 0 0 0 0 0 0 0 0 0 0 0 0 0 0 0 0 0 0 0 0 0 0 0 0 0 0 0 0 0 0 0 0 0 0 0 0\n",
      " 0 0 0 0 0 0 0 0 0 0 0 0 0 0 0 0 0 0 0 0 0 0 0]\n"
     ]
    }
   ],
   "source": [
    "e = LabelEncoder()\n",
    "e.fit(y)\n",
    "y= e.transform(y)\n",
    "print(y)"
   ]
  },
  {
   "cell_type": "code",
   "execution_count": 9,
   "id": "2ede5456-59d0-4deb-823d-9547fb945276",
   "metadata": {},
   "outputs": [],
   "source": [
    "x_train, x_test, y_train, y_test = train_test_split(x, y, test_size = 0.3, random_state = seed)"
   ]
  },
  {
   "cell_type": "code",
   "execution_count": 12,
   "id": "e4e5bd49-5b14-4b5d-b8b6-814d265065cb",
   "metadata": {},
   "outputs": [
    {
     "name": "stdout",
     "output_type": "stream",
     "text": [
      "Model: \"sequential_1\"\n",
      "_________________________________________________________________\n",
      "Layer (type)                 Output Shape              Param #   \n",
      "=================================================================\n",
      "dense_3 (Dense)              (None, 24)                1464      \n",
      "_________________________________________________________________\n",
      "dense_4 (Dense)              (None, 10)                250       \n",
      "_________________________________________________________________\n",
      "dense_5 (Dense)              (None, 1)                 11        \n",
      "=================================================================\n",
      "Total params: 1,725\n",
      "Trainable params: 1,725\n",
      "Non-trainable params: 0\n",
      "_________________________________________________________________\n"
     ]
    }
   ],
   "source": [
    "model = models.Sequential()\n",
    "model.add(layers.Dense(24, input_dim=60, activation='relu'))\n",
    "model.add(layers.Dense(10, activation='relu'))\n",
    "model.add(layers.Dense(1, activation='sigmoid'))\n",
    "model.summary()"
   ]
  },
  {
   "cell_type": "code",
   "execution_count": 13,
   "id": "be80a54b-7df2-4d64-86c2-6c41d2a41e00",
   "metadata": {},
   "outputs": [],
   "source": [
    "model.compile(loss='mean_squared_error', optimizer ='adam', metrics=['accuracy'])"
   ]
  },
  {
   "cell_type": "code",
   "execution_count": 14,
   "id": "9391350e-e6e6-45f1-905f-5366f9fec0b3",
   "metadata": {},
   "outputs": [
    {
     "name": "stdout",
     "output_type": "stream",
     "text": [
      "Epoch 1/130\n",
      "29/29 [==============================] - 0s 631us/step - loss: 0.2545 - accuracy: 0.4828\n",
      "Epoch 2/130\n",
      "29/29 [==============================] - 0s 1ms/step - loss: 0.2469 - accuracy: 0.5448\n",
      "Epoch 3/130\n",
      "29/29 [==============================] - 0s 487us/step - loss: 0.2422 - accuracy: 0.5586\n",
      "Epoch 4/130\n",
      "29/29 [==============================] - 0s 737us/step - loss: 0.2344 - accuracy: 0.6276\n",
      "Epoch 5/130\n",
      "29/29 [==============================] - 0s 550us/step - loss: 0.2282 - accuracy: 0.7034\n",
      "Epoch 6/130\n",
      "29/29 [==============================] - 0s 1ms/step - loss: 0.2222 - accuracy: 0.6966\n",
      "Epoch 7/130\n",
      "29/29 [==============================] - 0s 904us/step - loss: 0.2134 - accuracy: 0.6690\n",
      "Epoch 8/130\n",
      "29/29 [==============================] - 0s 689us/step - loss: 0.2032 - accuracy: 0.7724\n",
      "Epoch 9/130\n",
      "29/29 [==============================] - 0s 574us/step - loss: 0.1906 - accuracy: 0.7172\n",
      "Epoch 10/130\n",
      "29/29 [==============================] - 0s 679us/step - loss: 0.1829 - accuracy: 0.7586\n",
      "Epoch 11/130\n",
      "29/29 [==============================] - 0s 585us/step - loss: 0.1713 - accuracy: 0.7931\n",
      "Epoch 12/130\n",
      "29/29 [==============================] - 0s 694us/step - loss: 0.1658 - accuracy: 0.8069\n",
      "Epoch 13/130\n",
      "29/29 [==============================] - 0s 599us/step - loss: 0.1604 - accuracy: 0.7793\n",
      "Epoch 14/130\n",
      "29/29 [==============================] - 0s 657us/step - loss: 0.1522 - accuracy: 0.7931\n",
      "Epoch 15/130\n",
      "29/29 [==============================] - 0s 576us/step - loss: 0.1473 - accuracy: 0.7586\n",
      "Epoch 16/130\n",
      "29/29 [==============================] - 0s 680us/step - loss: 0.1404 - accuracy: 0.8414\n",
      "Epoch 17/130\n",
      "29/29 [==============================] - 0s 575us/step - loss: 0.1380 - accuracy: 0.8414\n",
      "Epoch 18/130\n",
      "29/29 [==============================] - 0s 547us/step - loss: 0.1315 - accuracy: 0.8552\n",
      "Epoch 19/130\n",
      "29/29 [==============================] - 0s 665us/step - loss: 0.1315 - accuracy: 0.8483\n",
      "Epoch 20/130\n",
      "29/29 [==============================] - 0s 597us/step - loss: 0.1229 - accuracy: 0.8552\n",
      "Epoch 21/130\n",
      "29/29 [==============================] - 0s 968us/step - loss: 0.1204 - accuracy: 0.8621\n",
      "Epoch 22/130\n",
      "29/29 [==============================] - 0s 617us/step - loss: 0.1173 - accuracy: 0.8828\n",
      "Epoch 23/130\n",
      "29/29 [==============================] - 0s 591us/step - loss: 0.1128 - accuracy: 0.8621\n",
      "Epoch 24/130\n",
      "29/29 [==============================] - 0s 551us/step - loss: 0.1095 - accuracy: 0.8621\n",
      "Epoch 25/130\n",
      "29/29 [==============================] - 0s 643us/step - loss: 0.1118 - accuracy: 0.8483\n",
      "Epoch 26/130\n",
      "29/29 [==============================] - 0s 581us/step - loss: 0.1069 - accuracy: 0.8897\n",
      "Epoch 27/130\n",
      "29/29 [==============================] - 0s 564us/step - loss: 0.1038 - accuracy: 0.8759\n",
      "Epoch 28/130\n",
      "29/29 [==============================] - 0s 557us/step - loss: 0.1007 - accuracy: 0.9034\n",
      "Epoch 29/130\n",
      "29/29 [==============================] - 0s 609us/step - loss: 0.0991 - accuracy: 0.8966\n",
      "Epoch 30/130\n",
      "29/29 [==============================] - 0s 570us/step - loss: 0.1008 - accuracy: 0.9172\n",
      "Epoch 31/130\n",
      "29/29 [==============================] - 0s 572us/step - loss: 0.1003 - accuracy: 0.8690\n",
      "Epoch 32/130\n",
      "29/29 [==============================] - 0s 659us/step - loss: 0.0956 - accuracy: 0.9103\n",
      "Epoch 33/130\n",
      "29/29 [==============================] - 0s 688us/step - loss: 0.0914 - accuracy: 0.8966\n",
      "Epoch 34/130\n",
      "29/29 [==============================] - 0s 564us/step - loss: 0.0920 - accuracy: 0.8897\n",
      "Epoch 35/130\n",
      "29/29 [==============================] - 0s 757us/step - loss: 0.0888 - accuracy: 0.9103\n",
      "Epoch 36/130\n",
      "29/29 [==============================] - 0s 561us/step - loss: 0.0856 - accuracy: 0.9034\n",
      "Epoch 37/130\n",
      "29/29 [==============================] - 0s 562us/step - loss: 0.0846 - accuracy: 0.9172\n",
      "Epoch 38/130\n",
      "29/29 [==============================] - 0s 730us/step - loss: 0.0841 - accuracy: 0.9172\n",
      "Epoch 39/130\n",
      "29/29 [==============================] - 0s 1ms/step - loss: 0.0814 - accuracy: 0.9241\n",
      "Epoch 40/130\n",
      "29/29 [==============================] - 0s 578us/step - loss: 0.0841 - accuracy: 0.9103\n",
      "Epoch 41/130\n",
      "29/29 [==============================] - 0s 595us/step - loss: 0.0820 - accuracy: 0.9172\n",
      "Epoch 42/130\n",
      "29/29 [==============================] - 0s 678us/step - loss: 0.0795 - accuracy: 0.9172\n",
      "Epoch 43/130\n",
      "29/29 [==============================] - 0s 585us/step - loss: 0.0840 - accuracy: 0.8759\n",
      "Epoch 44/130\n",
      "29/29 [==============================] - 0s 576us/step - loss: 0.0765 - accuracy: 0.9310\n",
      "Epoch 45/130\n",
      "29/29 [==============================] - 0s 559us/step - loss: 0.0731 - accuracy: 0.9103\n",
      "Epoch 46/130\n",
      "29/29 [==============================] - 0s 643us/step - loss: 0.0716 - accuracy: 0.9241\n",
      "Epoch 47/130\n",
      "29/29 [==============================] - 0s 615us/step - loss: 0.0694 - accuracy: 0.9379\n",
      "Epoch 48/130\n",
      "29/29 [==============================] - 0s 533us/step - loss: 0.0672 - accuracy: 0.9310\n",
      "Epoch 49/130\n",
      "29/29 [==============================] - 0s 742us/step - loss: 0.0659 - accuracy: 0.9310\n",
      "Epoch 50/130\n",
      "29/29 [==============================] - 0s 568us/step - loss: 0.0690 - accuracy: 0.9310\n",
      "Epoch 51/130\n",
      "29/29 [==============================] - 0s 567us/step - loss: 0.0658 - accuracy: 0.9448\n",
      "Epoch 52/130\n",
      "29/29 [==============================] - 0s 700us/step - loss: 0.0636 - accuracy: 0.9379\n",
      "Epoch 53/130\n",
      "29/29 [==============================] - 0s 990us/step - loss: 0.0627 - accuracy: 0.9310\n",
      "Epoch 54/130\n",
      "29/29 [==============================] - 0s 691us/step - loss: 0.0589 - accuracy: 0.9448\n",
      "Epoch 55/130\n",
      "29/29 [==============================] - 0s 521us/step - loss: 0.0616 - accuracy: 0.9379\n",
      "Epoch 56/130\n",
      "29/29 [==============================] - 0s 667us/step - loss: 0.0568 - accuracy: 0.9655\n",
      "Epoch 57/130\n",
      "29/29 [==============================] - 0s 1ms/step - loss: 0.0562 - accuracy: 0.9310\n",
      "Epoch 58/130\n",
      "29/29 [==============================] - 0s 578us/step - loss: 0.0567 - accuracy: 0.9586\n",
      "Epoch 59/130\n",
      "29/29 [==============================] - 0s 536us/step - loss: 0.0546 - accuracy: 0.9586\n",
      "Epoch 60/130\n",
      "29/29 [==============================] - 0s 699us/step - loss: 0.0534 - accuracy: 0.9517\n",
      "Epoch 61/130\n",
      "29/29 [==============================] - 0s 538us/step - loss: 0.0518 - accuracy: 0.9517\n",
      "Epoch 62/130\n",
      "29/29 [==============================] - 0s 1ms/step - loss: 0.0510 - accuracy: 0.9655\n",
      "Epoch 63/130\n",
      "29/29 [==============================] - 0s 557us/step - loss: 0.0495 - accuracy: 0.9448\n",
      "Epoch 64/130\n",
      "29/29 [==============================] - 0s 550us/step - loss: 0.0470 - accuracy: 0.9517\n",
      "Epoch 65/130\n",
      "29/29 [==============================] - 0s 653us/step - loss: 0.0498 - accuracy: 0.9448\n",
      "Epoch 66/130\n",
      "29/29 [==============================] - 0s 599us/step - loss: 0.0464 - accuracy: 0.9655\n",
      "Epoch 67/130\n",
      "29/29 [==============================] - 0s 677us/step - loss: 0.0414 - accuracy: 0.9724\n",
      "Epoch 68/130\n",
      "29/29 [==============================] - 0s 578us/step - loss: 0.0431 - accuracy: 0.9655\n",
      "Epoch 69/130\n",
      "29/29 [==============================] - 0s 584us/step - loss: 0.0426 - accuracy: 0.9655\n",
      "Epoch 70/130\n",
      "29/29 [==============================] - 0s 542us/step - loss: 0.0456 - accuracy: 0.9724\n",
      "Epoch 71/130\n",
      "29/29 [==============================] - 0s 677us/step - loss: 0.0387 - accuracy: 0.9586\n",
      "Epoch 72/130\n",
      "29/29 [==============================] - 0s 582us/step - loss: 0.0370 - accuracy: 0.9724\n",
      "Epoch 73/130\n",
      "29/29 [==============================] - 0s 1000us/step - loss: 0.0406 - accuracy: 0.9655\n",
      "Epoch 74/130\n",
      "29/29 [==============================] - 0s 617us/step - loss: 0.0359 - accuracy: 0.9724\n",
      "Epoch 75/130\n",
      "29/29 [==============================] - 0s 935us/step - loss: 0.0355 - accuracy: 0.9724\n",
      "Epoch 76/130\n",
      "29/29 [==============================] - 0s 679us/step - loss: 0.0369 - accuracy: 0.9724\n",
      "Epoch 77/130\n",
      "29/29 [==============================] - 0s 595us/step - loss: 0.0374 - accuracy: 0.9724\n",
      "Epoch 78/130\n",
      "29/29 [==============================] - 0s 768us/step - loss: 0.0375 - accuracy: 0.9655\n",
      "Epoch 79/130\n",
      "29/29 [==============================] - 0s 506us/step - loss: 0.0335 - accuracy: 0.9862\n",
      "Epoch 80/130\n",
      "29/29 [==============================] - 0s 725us/step - loss: 0.0301 - accuracy: 0.9793\n",
      "Epoch 81/130\n",
      "29/29 [==============================] - 0s 560us/step - loss: 0.0294 - accuracy: 0.9862\n",
      "Epoch 82/130\n",
      "29/29 [==============================] - 0s 551us/step - loss: 0.0356 - accuracy: 0.9586\n",
      "Epoch 83/130\n",
      "29/29 [==============================] - 0s 643us/step - loss: 0.0340 - accuracy: 0.9586\n",
      "Epoch 84/130\n",
      "29/29 [==============================] - 0s 579us/step - loss: 0.0289 - accuracy: 0.9793\n",
      "Epoch 85/130\n",
      "29/29 [==============================] - 0s 574us/step - loss: 0.0256 - accuracy: 0.9931\n",
      "Epoch 86/130\n",
      "29/29 [==============================] - 0s 546us/step - loss: 0.0261 - accuracy: 0.9862\n",
      "Epoch 87/130\n",
      "29/29 [==============================] - 0s 608us/step - loss: 0.0243 - accuracy: 0.9862\n",
      "Epoch 88/130\n",
      "29/29 [==============================] - 0s 623us/step - loss: 0.0237 - accuracy: 0.9931\n",
      "Epoch 89/130\n",
      "29/29 [==============================] - 0s 580us/step - loss: 0.0224 - accuracy: 0.9931\n",
      "Epoch 90/130\n",
      "29/29 [==============================] - 0s 619us/step - loss: 0.0241 - accuracy: 0.9862\n",
      "Epoch 91/130\n",
      "29/29 [==============================] - 0s 609us/step - loss: 0.0260 - accuracy: 0.9862\n",
      "Epoch 92/130\n",
      "29/29 [==============================] - 0s 678us/step - loss: 0.0245 - accuracy: 0.9862\n",
      "Epoch 93/130\n",
      "29/29 [==============================] - 0s 586us/step - loss: 0.0220 - accuracy: 0.9862\n",
      "Epoch 94/130\n",
      "29/29 [==============================] - 0s 568us/step - loss: 0.0197 - accuracy: 0.9931\n",
      "Epoch 95/130\n",
      "29/29 [==============================] - 0s 612us/step - loss: 0.0198 - accuracy: 0.9862\n",
      "Epoch 96/130\n",
      "29/29 [==============================] - 0s 623us/step - loss: 0.0185 - accuracy: 0.9862\n",
      "Epoch 97/130\n",
      "29/29 [==============================] - 0s 1ms/step - loss: 0.0183 - accuracy: 0.9862\n",
      "Epoch 98/130\n",
      "29/29 [==============================] - 0s 667us/step - loss: 0.0194 - accuracy: 0.9862\n",
      "Epoch 99/130\n",
      "29/29 [==============================] - 0s 600us/step - loss: 0.0170 - accuracy: 0.9862\n",
      "Epoch 100/130\n",
      "29/29 [==============================] - 0s 515us/step - loss: 0.0158 - accuracy: 0.9931\n",
      "Epoch 101/130\n",
      "29/29 [==============================] - 0s 609us/step - loss: 0.0166 - accuracy: 0.9862\n",
      "Epoch 102/130\n",
      "29/29 [==============================] - 0s 609us/step - loss: 0.0160 - accuracy: 0.9931\n",
      "Epoch 103/130\n",
      "29/29 [==============================] - 0s 586us/step - loss: 0.0184 - accuracy: 0.9862\n",
      "Epoch 104/130\n",
      "29/29 [==============================] - 0s 635us/step - loss: 0.0162 - accuracy: 0.9862\n",
      "Epoch 105/130\n",
      "29/29 [==============================] - 0s 836us/step - loss: 0.0175 - accuracy: 0.9931\n",
      "Epoch 106/130\n",
      "29/29 [==============================] - 0s 595us/step - loss: 0.0178 - accuracy: 0.9931\n",
      "Epoch 107/130\n",
      "29/29 [==============================] - 0s 551us/step - loss: 0.0146 - accuracy: 0.9931\n",
      "Epoch 108/130\n",
      "29/29 [==============================] - 0s 529us/step - loss: 0.0132 - accuracy: 0.9931\n",
      "Epoch 109/130\n",
      "29/29 [==============================] - 0s 529us/step - loss: 0.0170 - accuracy: 0.9862\n",
      "Epoch 110/130\n",
      "29/29 [==============================] - 0s 609us/step - loss: 0.0141 - accuracy: 0.9931\n",
      "Epoch 111/130\n",
      "29/29 [==============================] - 0s 609us/step - loss: 0.0130 - accuracy: 0.9931\n",
      "Epoch 112/130\n",
      "29/29 [==============================] - 0s 582us/step - loss: 0.0122 - accuracy: 0.9931\n",
      "Epoch 113/130\n",
      "29/29 [==============================] - 0s 638us/step - loss: 0.0118 - accuracy: 0.9931\n",
      "Epoch 114/130\n",
      "29/29 [==============================] - 0s 888us/step - loss: 0.0110 - accuracy: 0.9931\n",
      "Epoch 115/130\n",
      "29/29 [==============================] - 0s 643us/step - loss: 0.0121 - accuracy: 0.9862\n",
      "Epoch 116/130\n",
      "29/29 [==============================] - 0s 593us/step - loss: 0.0107 - accuracy: 1.0000\n",
      "Epoch 117/130\n",
      "29/29 [==============================] - 0s 532us/step - loss: 0.0112 - accuracy: 0.9931\n",
      "Epoch 118/130\n",
      "29/29 [==============================] - 0s 643us/step - loss: 0.0098 - accuracy: 0.9931\n",
      "Epoch 119/130\n",
      "29/29 [==============================] - 0s 609us/step - loss: 0.0102 - accuracy: 0.9931\n",
      "Epoch 120/130\n",
      "29/29 [==============================] - 0s 579us/step - loss: 0.0095 - accuracy: 0.9931\n",
      "Epoch 121/130\n",
      "29/29 [==============================] - 0s 541us/step - loss: 0.0103 - accuracy: 1.0000\n",
      "Epoch 122/130\n",
      "29/29 [==============================] - 0s 979us/step - loss: 0.0092 - accuracy: 1.0000\n",
      "Epoch 123/130\n",
      "29/29 [==============================] - 0s 664us/step - loss: 0.0092 - accuracy: 0.9931\n",
      "Epoch 124/130\n",
      "29/29 [==============================] - 0s 686us/step - loss: 0.0083 - accuracy: 0.9931\n",
      "Epoch 125/130\n",
      "29/29 [==============================] - 0s 482us/step - loss: 0.0090 - accuracy: 0.9931\n",
      "Epoch 126/130\n",
      "29/29 [==============================] - 0s 609us/step - loss: 0.0087 - accuracy: 1.0000\n",
      "Epoch 127/130\n",
      "29/29 [==============================] - 0s 609us/step - loss: 0.0078 - accuracy: 1.0000\n",
      "Epoch 128/130\n",
      "29/29 [==============================] - 0s 914us/step - loss: 0.0074 - accuracy: 1.0000\n",
      "Epoch 129/130\n",
      "29/29 [==============================] - 0s 723us/step - loss: 0.0073 - accuracy: 1.0000\n",
      "Epoch 130/130\n",
      "29/29 [==============================] - 0s 522us/step - loss: 0.0100 - accuracy: 1.0000\n"
     ]
    },
    {
     "data": {
      "text/plain": [
       "<tensorflow.python.keras.callbacks.History at 0x28d8ee04cd0>"
      ]
     },
     "execution_count": 14,
     "metadata": {},
     "output_type": "execute_result"
    }
   ],
   "source": [
    "model.fit(x_train, y_train, epochs=130,batch_size=5)"
   ]
  },
  {
   "cell_type": "code",
   "execution_count": 15,
   "id": "92fa92e4-d1c8-4124-8e6f-78f643bb9848",
   "metadata": {},
   "outputs": [
    {
     "name": "stdout",
     "output_type": "stream",
     "text": [
      "2/2 [==============================] - 0s 0s/step - loss: 0.1557 - accuracy: 0.8254\n",
      "\n",
      " Accuracy: 0.8254\n"
     ]
    }
   ],
   "source": [
    "print('\\n Accuracy: %.4f' % (model.evaluate(x_test, y_test)[1]))"
   ]
  },
  {
   "cell_type": "code",
   "execution_count": 16,
   "id": "aa813bcc-2636-4e74-81f3-adb4b2a1a6c3",
   "metadata": {},
   "outputs": [],
   "source": [
    "model.save('my_model.h5')"
   ]
  },
  {
   "cell_type": "code",
   "execution_count": 17,
   "id": "44523ab6-7924-40bf-9b41-5c0e1f523deb",
   "metadata": {},
   "outputs": [],
   "source": [
    "del model"
   ]
  },
  {
   "cell_type": "code",
   "execution_count": 18,
   "id": "8b68e428-9fc9-4052-b3aa-fa4fa730ea29",
   "metadata": {},
   "outputs": [
    {
     "ename": "NameError",
     "evalue": "name 'model' is not defined",
     "output_type": "error",
     "traceback": [
      "\u001b[1;31m---------------------------------------------------------------------------\u001b[0m",
      "\u001b[1;31mNameError\u001b[0m                                 Traceback (most recent call last)",
      "Input \u001b[1;32mIn [18]\u001b[0m, in \u001b[0;36m<cell line: 1>\u001b[1;34m()\u001b[0m\n\u001b[1;32m----> 1\u001b[0m \u001b[43mmodel\u001b[49m\n",
      "\u001b[1;31mNameError\u001b[0m: name 'model' is not defined"
     ]
    }
   ],
   "source": [
    "model"
   ]
  },
  {
   "cell_type": "code",
   "execution_count": 20,
   "id": "de7fb1d6-9cc0-42a1-a6ad-c301218de4b7",
   "metadata": {},
   "outputs": [
    {
     "name": "stdout",
     "output_type": "stream",
     "text": [
      "2/2 [==============================] - 0s 8ms/step - loss: 0.1557 - accuracy: 0.8254\n",
      "\n",
      " Accuracy: 0.8254\n"
     ]
    }
   ],
   "source": [
    "model = models.load_model('my_model.h5')\n",
    "print('\\n Accuracy: %.4f' % (model.evaluate(x_test, y_test)[1]))"
   ]
  },
  {
   "cell_type": "code",
   "execution_count": null,
   "id": "42daedb5-cad6-4272-b103-17b3d387152a",
   "metadata": {},
   "outputs": [],
   "source": []
  }
 ],
 "metadata": {
  "kernelspec": {
   "display_name": "Python 3 (ipykernel)",
   "language": "python",
   "name": "python3"
  },
  "language_info": {
   "codemirror_mode": {
    "name": "ipython",
    "version": 3
   },
   "file_extension": ".py",
   "mimetype": "text/x-python",
   "name": "python",
   "nbconvert_exporter": "python",
   "pygments_lexer": "ipython3",
   "version": "3.8.13"
  }
 },
 "nbformat": 4,
 "nbformat_minor": 5
}
