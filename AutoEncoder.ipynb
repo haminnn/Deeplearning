{
 "cells": [
  {
   "cell_type": "code",
   "execution_count": 2,
   "id": "a043fecd-f521-4ec2-a917-9049db0c8382",
   "metadata": {},
   "outputs": [],
   "source": [
    "from tensorflow.keras.datasets import mnist\n",
    "from tensorflow.keras import models, layers\n",
    "import numpy as np\n",
    "import tensorflow as tf\n",
    "import matplotlib.pyplot as plt"
   ]
  },
  {
   "cell_type": "code",
   "execution_count": 4,
   "id": "7794466e-56db-45d3-9445-55a8d9440029",
   "metadata": {},
   "outputs": [],
   "source": [
    "(X_train, _), (X_test, _) = mnist.load_data()\n",
    "X_train = X_train.reshape(X_train.shape[0], 28, 28, 1).astype(float) / 255\n",
    "X_test = X_test.reshape(X_test.shape[0], 28, 28, 1).astype(float) / 255"
   ]
  },
  {
   "cell_type": "code",
   "execution_count": 5,
   "id": "7b69f5e0-82fe-4f7c-bffa-ae169bf15921",
   "metadata": {},
   "outputs": [],
   "source": [
    "autoencoder = models.Sequential()\n",
    "autoencoder.add(layers.Conv2D(16, kernel_size = 3, padding = 'same', input_shape = (28, 28, 1), activation = 'relu'))\n",
    "autoencoder.add(layers.MaxPooling2D(pool_size = 2))\n",
    "autoencoder.add(layers.Conv2D(8, kernel_size = 3, padding = 'same', activation = 'relu'))\n",
    "autoencoder.add(layers.MaxPooling2D(pool_size = 2))\n",
    "autoencoder.add(layers.Conv2D(8, kernel_size = 3, strides = 2, padding = 'same', activation = 'relu'))\n",
    "\n",
    "#디코더\n",
    "autoencoder.add(layers.Conv2D(8, kernel_size = 3, padding = 'same', activation = 'relu'))\n",
    "autoencoder.add(layers.UpSampling2D())\n",
    "autoencoder.add(layers.Conv2D(8, kernel_size = 3, padding = 'same', activation = 'relu'))\n",
    "autoencoder.add(layers.UpSampling2D())\n",
    "autoencoder.add(layers.Conv2D(16, kernel_size = 3, activation = 'relu'))\n",
    "autoencoder.add(layers.UpSampling2D())\n",
    "autoencoder.add(layers.Conv2D(1, kernel_size = 3, padding = 'same', activation = 'relu'))\n"
   ]
  },
  {
   "cell_type": "code",
   "execution_count": 6,
   "id": "fd889785-e132-4c21-ae73-0414144caebd",
   "metadata": {},
   "outputs": [
    {
     "name": "stdout",
     "output_type": "stream",
     "text": [
      "Model: \"sequential\"\n",
      "_________________________________________________________________\n",
      "Layer (type)                 Output Shape              Param #   \n",
      "=================================================================\n",
      "conv2d (Conv2D)              (None, 28, 28, 16)        160       \n",
      "_________________________________________________________________\n",
      "max_pooling2d (MaxPooling2D) (None, 14, 14, 16)        0         \n",
      "_________________________________________________________________\n",
      "conv2d_1 (Conv2D)            (None, 14, 14, 8)         1160      \n",
      "_________________________________________________________________\n",
      "max_pooling2d_1 (MaxPooling2 (None, 7, 7, 8)           0         \n",
      "_________________________________________________________________\n",
      "conv2d_2 (Conv2D)            (None, 4, 4, 8)           584       \n",
      "_________________________________________________________________\n",
      "conv2d_3 (Conv2D)            (None, 4, 4, 8)           584       \n",
      "_________________________________________________________________\n",
      "up_sampling2d (UpSampling2D) (None, 8, 8, 8)           0         \n",
      "_________________________________________________________________\n",
      "conv2d_4 (Conv2D)            (None, 8, 8, 8)           584       \n",
      "_________________________________________________________________\n",
      "up_sampling2d_1 (UpSampling2 (None, 16, 16, 8)         0         \n",
      "_________________________________________________________________\n",
      "conv2d_5 (Conv2D)            (None, 14, 14, 16)        1168      \n",
      "_________________________________________________________________\n",
      "up_sampling2d_2 (UpSampling2 (None, 28, 28, 16)        0         \n",
      "_________________________________________________________________\n",
      "conv2d_6 (Conv2D)            (None, 28, 28, 1)         145       \n",
      "=================================================================\n",
      "Total params: 4,385\n",
      "Trainable params: 4,385\n",
      "Non-trainable params: 0\n",
      "_________________________________________________________________\n"
     ]
    }
   ],
   "source": [
    "autoencoder.summary()"
   ]
  },
  {
   "cell_type": "code",
   "execution_count": 7,
   "id": "738ac25b-6781-4dd7-b20c-9c5103b6b173",
   "metadata": {},
   "outputs": [
    {
     "name": "stdout",
     "output_type": "stream",
     "text": [
      "Epoch 1/50\n",
      "469/469 [==============================] - 35s 75ms/step - loss: 0.2505 - val_loss: 0.2244\n",
      "Epoch 2/50\n",
      "469/469 [==============================] - 35s 75ms/step - loss: 0.1921 - val_loss: 0.1826\n",
      "Epoch 3/50\n",
      "469/469 [==============================] - 35s 74ms/step - loss: 0.1819 - val_loss: 0.1694\n",
      "Epoch 4/50\n",
      "469/469 [==============================] - 35s 74ms/step - loss: 0.1730 - val_loss: 0.1728\n",
      "Epoch 5/50\n",
      "469/469 [==============================] - 35s 74ms/step - loss: 0.1662 - val_loss: 0.1539\n",
      "Epoch 6/50\n",
      "469/469 [==============================] - 35s 74ms/step - loss: 0.1666 - val_loss: 0.1507\n",
      "Epoch 7/50\n",
      "469/469 [==============================] - 35s 74ms/step - loss: 0.1529 - val_loss: 0.1451\n",
      "Epoch 8/50\n",
      "469/469 [==============================] - 35s 74ms/step - loss: 0.1611 - val_loss: 0.1666\n",
      "Epoch 9/50\n",
      "469/469 [==============================] - 35s 74ms/step - loss: 0.1646 - val_loss: 0.1628\n",
      "Epoch 10/50\n",
      "469/469 [==============================] - 35s 74ms/step - loss: 0.1622 - val_loss: 0.1486\n",
      "Epoch 11/50\n",
      "469/469 [==============================] - 35s 75ms/step - loss: 0.1480 - val_loss: 0.1568\n",
      "Epoch 12/50\n",
      "469/469 [==============================] - 35s 74ms/step - loss: 0.2035 - val_loss: 0.1654\n",
      "Epoch 13/50\n",
      "469/469 [==============================] - 35s 74ms/step - loss: 0.1785 - val_loss: 0.1631\n",
      "Epoch 14/50\n",
      "469/469 [==============================] - 35s 74ms/step - loss: 0.1704 - val_loss: 0.2772\n",
      "Epoch 15/50\n",
      "469/469 [==============================] - 35s 74ms/step - loss: 0.1840 - val_loss: 0.1579\n",
      "Epoch 16/50\n",
      "469/469 [==============================] - 35s 74ms/step - loss: 0.1526 - val_loss: 0.1449\n",
      "Epoch 17/50\n",
      "469/469 [==============================] - 35s 74ms/step - loss: 0.1521 - val_loss: 0.1849\n",
      "Epoch 18/50\n",
      "469/469 [==============================] - 35s 74ms/step - loss: 0.1829 - val_loss: 0.2013\n",
      "Epoch 19/50\n",
      "469/469 [==============================] - 35s 74ms/step - loss: 0.1708 - val_loss: 0.1526\n",
      "Epoch 20/50\n",
      "469/469 [==============================] - 35s 74ms/step - loss: 0.1540 - val_loss: 0.1449\n",
      "Epoch 21/50\n",
      "469/469 [==============================] - 35s 74ms/step - loss: 0.1820 - val_loss: 0.1883\n",
      "Epoch 22/50\n",
      "469/469 [==============================] - 35s 74ms/step - loss: 0.1682 - val_loss: 0.1912\n",
      "Epoch 23/50\n",
      "469/469 [==============================] - 35s 74ms/step - loss: 0.1553 - val_loss: 0.1410\n",
      "Epoch 24/50\n",
      "469/469 [==============================] - 35s 74ms/step - loss: 0.1452 - val_loss: 0.1436\n",
      "Epoch 25/50\n",
      "469/469 [==============================] - 35s 74ms/step - loss: 0.1364 - val_loss: 0.1318\n",
      "Epoch 26/50\n",
      "469/469 [==============================] - 35s 74ms/step - loss: 0.1447 - val_loss: 0.1345\n",
      "Epoch 27/50\n",
      "469/469 [==============================] - 35s 75ms/step - loss: 0.1486 - val_loss: 0.1358\n",
      "Epoch 28/50\n",
      "469/469 [==============================] - 35s 74ms/step - loss: 0.1637 - val_loss: 0.1726\n",
      "Epoch 29/50\n",
      "469/469 [==============================] - 35s 74ms/step - loss: 0.1555 - val_loss: 0.1412\n",
      "Epoch 30/50\n",
      "469/469 [==============================] - 35s 75ms/step - loss: 0.1778 - val_loss: 0.1505\n",
      "Epoch 31/50\n",
      "469/469 [==============================] - 35s 74ms/step - loss: 0.1450 - val_loss: 0.1356\n",
      "Epoch 32/50\n",
      "469/469 [==============================] - 35s 74ms/step - loss: 0.1638 - val_loss: 0.1410\n",
      "Epoch 33/50\n",
      "469/469 [==============================] - 35s 74ms/step - loss: 0.1382 - val_loss: 0.1322\n",
      "Epoch 34/50\n",
      "469/469 [==============================] - 35s 74ms/step - loss: 0.1361 - val_loss: 0.1389\n",
      "Epoch 35/50\n",
      "469/469 [==============================] - 35s 75ms/step - loss: 0.1303 - val_loss: 0.1247\n",
      "Epoch 36/50\n",
      "469/469 [==============================] - 35s 74ms/step - loss: 0.1502 - val_loss: 0.1395\n",
      "Epoch 37/50\n",
      "469/469 [==============================] - 35s 75ms/step - loss: 0.1644 - val_loss: 0.1449\n",
      "Epoch 38/50\n",
      "469/469 [==============================] - 35s 74ms/step - loss: 0.1432 - val_loss: 0.1344\n",
      "Epoch 39/50\n",
      "469/469 [==============================] - 35s 74ms/step - loss: 0.1393 - val_loss: 0.1303\n",
      "Epoch 40/50\n",
      "469/469 [==============================] - 35s 74ms/step - loss: 0.1362 - val_loss: 0.1521\n",
      "Epoch 41/50\n",
      "469/469 [==============================] - 35s 74ms/step - loss: 0.1642 - val_loss: 0.1424\n",
      "Epoch 42/50\n",
      "469/469 [==============================] - 35s 75ms/step - loss: 0.1484 - val_loss: 0.1311\n",
      "Epoch 43/50\n",
      "469/469 [==============================] - 35s 74ms/step - loss: 0.1370 - val_loss: 0.1339\n",
      "Epoch 44/50\n",
      "469/469 [==============================] - 35s 75ms/step - loss: 0.1368 - val_loss: 0.1292\n",
      "Epoch 45/50\n",
      "469/469 [==============================] - 35s 74ms/step - loss: 0.1260 - val_loss: 0.1231\n",
      "Epoch 46/50\n",
      "469/469 [==============================] - 35s 75ms/step - loss: 0.1302 - val_loss: 0.1236\n",
      "Epoch 47/50\n",
      "469/469 [==============================] - 36s 76ms/step - loss: 0.1314 - val_loss: 0.1261\n",
      "Epoch 48/50\n",
      "469/469 [==============================] - 35s 75ms/step - loss: 0.1299 - val_loss: 0.1246\n",
      "Epoch 49/50\n",
      "469/469 [==============================] - 35s 75ms/step - loss: 0.1243 - val_loss: 0.1186\n",
      "Epoch 50/50\n",
      "469/469 [==============================] - 35s 74ms/step - loss: 0.1265 - val_loss: 0.1239\n"
     ]
    },
    {
     "data": {
      "text/plain": [
       "<tensorflow.python.keras.callbacks.History at 0x187af9ac400>"
      ]
     },
     "execution_count": 7,
     "metadata": {},
     "output_type": "execute_result"
    }
   ],
   "source": [
    "autoencoder.compile(loss ='binary_crossentropy', optimizer = 'adam')\n",
    "autoencoder.fit(X_train, X_train, epochs = 50, batch_size = 128, validation_data = (X_test,X_test))"
   ]
  },
  {
   "cell_type": "code",
   "execution_count": 10,
   "id": "8f92ad54-f044-454c-bf4d-adbd4a4b1d47",
   "metadata": {},
   "outputs": [
    {
     "data": {
      "image/png": "[encoded data removed]",
      "text/plain": [
       "<Figure size 504x144 with 10 Axes>"
      ]
     },
     "metadata": {
      "needs_background": "light"
     },
     "output_type": "display_data"
    }
   ],
   "source": [
    "random_test = np.random.randint(X_test.shape[0], size=5)\n",
    "ae_imgs = autoencoder.predict(X_test)\n",
    "plt.figure(figsize=(7, 2))\n",
    "for i, image_idx in enumerate(random_test):\n",
    "    ax = plt.subplot(2, 7, i + 1) \n",
    "    plt.imshow(X_test[image_idx].reshape(28, 28))  #테스트할 이미지를 먼저 그대로 보여줍니다.\n",
    "    ax.axis('off')\n",
    "    ax = plt.subplot(2, 7, 7 + i +1)\n",
    "    plt.imshow(ae_imgs[image_idx].reshape(28, 28))  #오토인코딩 결과를 다음열에 출력합니다.\n",
    "    ax.axis('off')\n",
    "\n",
    "\n",
    "plt.show()"
   ]
  },
  {
   "cell_type": "code",
   "execution_count": null,
   "id": "881c369a-02f2-4447-939f-59a4426ab728",
   "metadata": {},
   "outputs": [],
   "source": []
  }
 ],
 "metadata": {
  "kernelspec": {
   "display_name": "Python 3 (ipykernel)",
   "language": "python",
   "name": "python3"
  },
  "language_info": {
   "codemirror_mode": {
    "name": "ipython",
    "version": 3
   },
   "file_extension": ".py",
   "mimetype": "text/x-python",
   "name": "python",
   "nbconvert_exporter": "python",
   "pygments_lexer": "ipython3",
   "version": "3.8.13"
  }
 },
 "nbformat": 4,
 "nbformat_minor": 5
}
