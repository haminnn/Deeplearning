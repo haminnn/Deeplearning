{
 "cells": [
  {
   "cell_type": "code",
   "execution_count": 1,
   "id": "4733a9d1-5329-47f0-b4f6-e721c767aa28",
   "metadata": {},
   "outputs": [],
   "source": [
    "import tensorflow as tf\n",
    "import numpy as np\n",
    "import matplotlib.pyplot as plt\n",
    "from tensorflow.keras import models, layers, optimizers\n",
    "from tensorflow.keras.preprocessing.image import ImageDataGenerator"
   ]
  },
  {
   "cell_type": "code",
   "execution_count": 2,
   "id": "c4483543-ec8b-4e7d-9742-bf02a1a05fa1",
   "metadata": {},
   "outputs": [
    {
     "name": "stdout",
     "output_type": "stream",
     "text": [
      "Found 160 images belonging to 2 classes.\n",
      "Found 120 images belonging to 2 classes.\n"
     ]
    }
   ],
   "source": [
    "BATCH_SIZE = 5\n",
    "\n",
    "train_datagen = ImageDataGenerator(rescale = 1./255,\n",
    "                                   horizontal_flip = True, # 랜덤하게 50%를 생성\n",
    "                                   width_shift_range = 0.1, # 좌/우 10% 범위 내에서 이동\n",
    "                                   height_shift_range = 0.1, # 상/하 10% 범위 내에서 이동\n",
    "                                   fill_mode = 'nearest')\n",
    "\n",
    "train_generator = train_datagen.flow_from_directory('train',\n",
    "                                                    target_size = (150, 150),\n",
    "                                                    batch_size = BATCH_SIZE,\n",
    "                                                    class_mode = 'binary')\n",
    "\n",
    "test_datagen = ImageDataGenerator(rescale = 1./255)\n",
    "\n",
    "test_generator = test_datagen.flow_from_directory('test',\n",
    "                                                    target_size = (150, 150),\n",
    "                                                    batch_size = BATCH_SIZE,\n",
    "                                                    class_mode = 'binary')"
   ]
  },
  {
   "cell_type": "code",
   "execution_count": 3,
   "id": "4135d92c-1cc7-49fa-b0b7-8cf0fbc6f944",
   "metadata": {},
   "outputs": [],
   "source": [
    "model = models.Sequential()\n",
    "model.add(layers.Conv2D(32, (3, 3), input_shape = (150, 150, 3), activation = 'relu'))\n",
    "model.add(layers.MaxPooling2D(pool_size = 2))\n",
    "model.add(layers.Conv2D(32, (3, 3), activation = 'relu'))\n",
    "model.add(layers.MaxPooling2D(pool_size = 2))\n",
    "model.add(layers.Conv2D(64, (3, 3), activation = 'relu'))\n",
    "model.add(layers.MaxPooling2D(pool_size = 2))\n",
    "model.add(layers.Flatten())\n",
    "model.add(layers.Dense(64, activation = 'relu'))\n",
    "model.add(layers.Dropout(0.5))\n",
    "model.add(layers.Dense(2, activation = 'softmax'))"
   ]
  },
  {
   "cell_type": "code",
   "execution_count": 4,
   "id": "587d38b3-7257-47eb-879b-2c187ee21c62",
   "metadata": {},
   "outputs": [
    {
     "name": "stdout",
     "output_type": "stream",
     "text": [
      "Model: \"sequential\"\n",
      "_________________________________________________________________\n",
      "Layer (type)                 Output Shape              Param #   \n",
      "=================================================================\n",
      "conv2d (Conv2D)              (None, 148, 148, 32)      896       \n",
      "_________________________________________________________________\n",
      "max_pooling2d (MaxPooling2D) (None, 74, 74, 32)        0         \n",
      "_________________________________________________________________\n",
      "conv2d_1 (Conv2D)            (None, 72, 72, 32)        9248      \n",
      "_________________________________________________________________\n",
      "max_pooling2d_1 (MaxPooling2 (None, 36, 36, 32)        0         \n",
      "_________________________________________________________________\n",
      "conv2d_2 (Conv2D)            (None, 34, 34, 64)        18496     \n",
      "_________________________________________________________________\n",
      "max_pooling2d_2 (MaxPooling2 (None, 17, 17, 64)        0         \n",
      "_________________________________________________________________\n",
      "flatten (Flatten)            (None, 18496)             0         \n",
      "_________________________________________________________________\n",
      "dense (Dense)                (None, 64)                1183808   \n",
      "_________________________________________________________________\n",
      "dropout (Dropout)            (None, 64)                0         \n",
      "_________________________________________________________________\n",
      "dense_1 (Dense)              (None, 2)                 130       \n",
      "=================================================================\n",
      "Total params: 1,212,578\n",
      "Trainable params: 1,212,578\n",
      "Non-trainable params: 0\n",
      "_________________________________________________________________\n"
     ]
    }
   ],
   "source": [
    "model.summary()"
   ]
  },
  {
   "cell_type": "code",
   "execution_count": 5,
   "id": "b6f98596-2979-4d12-88fa-72361db62c61",
   "metadata": {},
   "outputs": [],
   "source": [
    "model.compile(loss = 'sparse_categorical_crossentropy',\n",
    "              optimizer = optimizers.Adam(learning_rate = 0.0002),\n",
    "              metrics= ['accuracy'])"
   ]
  },
  {
   "cell_type": "code",
   "execution_count": 6,
   "id": "7458ece9-a4aa-4db6-96bb-a7623ae67c3e",
   "metadata": {},
   "outputs": [
    {
     "name": "stdout",
     "output_type": "stream",
     "text": [
      "32 24\n"
     ]
    }
   ],
   "source": [
    "steps_train = len(train_generator)\n",
    "steps_test = len(test_generator)\n",
    "print(steps_train, steps_test)"
   ]
  },
  {
   "cell_type": "code",
   "execution_count": 7,
   "id": "894f7167-1b3a-4627-91c2-5ed7bc312238",
   "metadata": {},
   "outputs": [
    {
     "name": "stdout",
     "output_type": "stream",
     "text": [
      "Epoch 1/20\n",
      "32/32 [==============================] - 3s 81ms/step - loss: 0.7118 - accuracy: 0.5250 - val_loss: 0.7165 - val_accuracy: 0.5000\n",
      "Epoch 2/20\n",
      "32/32 [==============================] - 2s 75ms/step - loss: 0.7076 - accuracy: 0.4563 - val_loss: 0.6910 - val_accuracy: 0.5000\n",
      "Epoch 3/20\n",
      "32/32 [==============================] - 2s 75ms/step - loss: 0.6939 - accuracy: 0.4875 - val_loss: 0.6871 - val_accuracy: 0.8000\n",
      "Epoch 4/20\n",
      "32/32 [==============================] - 2s 74ms/step - loss: 0.6882 - accuracy: 0.5562 - val_loss: 0.6818 - val_accuracy: 0.5083\n",
      "Epoch 5/20\n",
      "32/32 [==============================] - 2s 75ms/step - loss: 0.6748 - accuracy: 0.6438 - val_loss: 0.6623 - val_accuracy: 0.5917\n",
      "Epoch 6/20\n",
      "32/32 [==============================] - 2s 75ms/step - loss: 0.6595 - accuracy: 0.6500 - val_loss: 0.6210 - val_accuracy: 0.7750\n",
      "Epoch 7/20\n",
      "32/32 [==============================] - 2s 75ms/step - loss: 0.6370 - accuracy: 0.6625 - val_loss: 0.5750 - val_accuracy: 0.8500\n",
      "Epoch 8/20\n",
      "32/32 [==============================] - 2s 75ms/step - loss: 0.6363 - accuracy: 0.6187 - val_loss: 0.5906 - val_accuracy: 0.6333\n",
      "Epoch 9/20\n",
      "32/32 [==============================] - 2s 76ms/step - loss: 0.5712 - accuracy: 0.7000 - val_loss: 0.5303 - val_accuracy: 0.7250\n",
      "Epoch 10/20\n",
      "32/32 [==============================] - 2s 76ms/step - loss: 0.5333 - accuracy: 0.7063 - val_loss: 0.4456 - val_accuracy: 0.8083\n",
      "Epoch 11/20\n",
      "32/32 [==============================] - 2s 77ms/step - loss: 0.4915 - accuracy: 0.7875 - val_loss: 0.3637 - val_accuracy: 0.9167\n",
      "Epoch 12/20\n",
      "32/32 [==============================] - 2s 78ms/step - loss: 0.4479 - accuracy: 0.8188 - val_loss: 0.3094 - val_accuracy: 0.9250\n",
      "Epoch 13/20\n",
      "32/32 [==============================] - 3s 79ms/step - loss: 0.3872 - accuracy: 0.8438 - val_loss: 0.2533 - val_accuracy: 0.9333\n",
      "Epoch 14/20\n",
      "32/32 [==============================] - 2s 76ms/step - loss: 0.3380 - accuracy: 0.8813 - val_loss: 0.2060 - val_accuracy: 0.9417\n",
      "Epoch 15/20\n",
      "32/32 [==============================] - 2s 76ms/step - loss: 0.3143 - accuracy: 0.9062 - val_loss: 0.1637 - val_accuracy: 0.9750\n",
      "Epoch 16/20\n",
      "32/32 [==============================] - 2s 76ms/step - loss: 0.2636 - accuracy: 0.8938 - val_loss: 0.2322 - val_accuracy: 0.9083\n",
      "Epoch 17/20\n",
      "32/32 [==============================] - 2s 76ms/step - loss: 0.2538 - accuracy: 0.9187 - val_loss: 0.1337 - val_accuracy: 0.9667\n",
      "Epoch 18/20\n",
      "32/32 [==============================] - 2s 76ms/step - loss: 0.2383 - accuracy: 0.9563 - val_loss: 0.1176 - val_accuracy: 0.9833\n",
      "Epoch 19/20\n",
      "32/32 [==============================] - 2s 76ms/step - loss: 0.1955 - accuracy: 0.9375 - val_loss: 0.1057 - val_accuracy: 0.9667\n",
      "Epoch 20/20\n",
      "32/32 [==============================] - 2s 75ms/step - loss: 0.2046 - accuracy: 0.9125 - val_loss: 0.2500 - val_accuracy: 0.8833\n"
     ]
    }
   ],
   "source": [
    "history = model.fit(train_generator,\n",
    "         steps_per_epoch=steps_train,\n",
    "         epochs=20,\n",
    "         validation_data=test_generator,\n",
    "         validation_steps=steps_test)"
   ]
  },
  {
   "cell_type": "code",
   "execution_count": 8,
   "id": "c8e99fa8-384c-4fbd-85f0-be6803d6b855",
   "metadata": {},
   "outputs": [
    {
     "data": {
      "image/png": "[encoded data removed]",
      "text/plain": [
       "<Figure size 432x288 with 1 Axes>"
      ]
     },
     "metadata": {
      "needs_background": "light"
     },
     "output_type": "display_data"
    }
   ],
   "source": [
    "acc= history.history['accuracy']\n",
    "val_acc= history.history['val_accuracy']\n",
    "y_vloss = history.history['val_loss']\n",
    "y_loss = history.history['loss']\n",
    "\n",
    "x_len = np.arange(len(y_loss))  \n",
    "plt.plot(x_len, acc, marker='.', c=\"red\", label='Trainset_acc')\n",
    "plt.plot(x_len, val_acc, marker='.', c=\"lightcoral\", label='Testset_acc')\n",
    "plt.plot(x_len, y_vloss, marker='.', c=\"cornflowerblue\", label='Testset_loss')\n",
    "plt.plot(x_len, y_loss, marker='.', c=\"blue\", label='Trainset_loss')\n",
    "\n",
    "plt.legend(loc='upper right') \n",
    "plt.grid()\n",
    "plt.xlabel('epoch')\n",
    "plt.ylabel('loss/acc')\n",
    "plt.show()"
   ]
  },
  {
   "cell_type": "code",
   "execution_count": null,
   "id": "166ad0b0-f81b-4144-b4bc-971e0c3dc924",
   "metadata": {},
   "outputs": [],
   "source": []
  }
 ],
 "metadata": {
  "kernelspec": {
   "display_name": "Python 3 (ipykernel)",
   "language": "python",
   "name": "python3"
  },
  "language_info": {
   "codemirror_mode": {
    "name": "ipython",
    "version": 3
   },
   "file_extension": ".py",
   "mimetype": "text/x-python",
   "name": "python",
   "nbconvert_exporter": "python",
   "pygments_lexer": "ipython3",
   "version": "3.8.13"
  }
 },
 "nbformat": 4,
 "nbformat_minor": 5
}
