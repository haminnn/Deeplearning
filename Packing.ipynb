{
 "cells": [
  {
   "cell_type": "code",
   "execution_count": 1,
   "id": "7ee85183-5d24-4272-b4f5-8a5f02adaf04",
   "metadata": {},
   "outputs": [
    {
     "name": "stdout",
     "output_type": "stream",
     "text": [
      "(1, 2, 3, 4, 5)\n"
     ]
    }
   ],
   "source": [
    "def f1(*args): #패킹 변수\n",
    "    print(args)\n",
    "\n",
    "f1(1,2,3,4,5)"
   ]
  },
  {
   "cell_type": "code",
   "execution_count": 2,
   "id": "96114dac-b8a1-45d2-b2a8-fcedeefb4a98",
   "metadata": {},
   "outputs": [
    {
     "name": "stdout",
     "output_type": "stream",
     "text": [
      "([1, 2, 3, 4, 5],)\n"
     ]
    }
   ],
   "source": [
    "a = [1, 2, 3, 4, 5]\n",
    "f1(a)"
   ]
  },
  {
   "cell_type": "code",
   "execution_count": 3,
   "id": "058c606d-1da4-41da-820a-6182e4681699",
   "metadata": {},
   "outputs": [
    {
     "name": "stdout",
     "output_type": "stream",
     "text": [
      "(1, 2, 3, 4, 5)\n"
     ]
    }
   ],
   "source": [
    "f1(*a) #자신이 가지고 있는 데이터를 언패킹 하겠다"
   ]
  },
  {
   "cell_type": "code",
   "execution_count": null,
   "id": "72b3bb76-3c06-4516-b5d9-552ff9da029d",
   "metadata": {},
   "outputs": [],
   "source": []
  }
 ],
 "metadata": {
  "kernelspec": {
   "display_name": "Python 3 (ipykernel)",
   "language": "python",
   "name": "python3"
  },
  "language_info": {
   "codemirror_mode": {
    "name": "ipython",
    "version": 3
   },
   "file_extension": ".py",
   "mimetype": "text/x-python",
   "name": "python",
   "nbconvert_exporter": "python",
   "pygments_lexer": "ipython3",
   "version": "3.8.13"
  }
 },
 "nbformat": 4,
 "nbformat_minor": 5
}
