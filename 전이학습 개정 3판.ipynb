{
 "cells": [
  {
   "cell_type": "code",
   "execution_count": 1,
   "id": "687e2076-283d-4903-9c27-ede256aa4fc2",
   "metadata": {},
   "outputs": [],
   "source": [
    "from tensorflow.keras.preprocessing.image import ImageDataGenerator\n",
    "from tensorflow.keras import Input, layers, optimizers, metrics, models\n",
    "from tensorflow.keras.layers import Dense, Flatten, Activation, Dropout\n",
    "from tensorflow.keras.applications import VGG16\n",
    "from tensorflow.keras.callbacks import EarlyStopping\n",
    "import numpy as np\n",
    "import matplotlib.pyplot as plt"
   ]
  },
  {
   "cell_type": "code",
   "execution_count": 2,
   "id": "b218080d-0a48-427b-8a2d-104d9ca20a6b",
   "metadata": {
    "tags": []
   },
   "outputs": [
    {
     "name": "stdout",
     "output_type": "stream",
     "text": [
      "Found 160 images belonging to 2 classes.\n",
      "Found 120 images belonging to 2 classes.\n"
     ]
    }
   ],
   "source": [
    "BATCH_SIZE = 5\n",
    "\n",
    "train_datagen = ImageDataGenerator(rescale = 1./255,\n",
    "                                   horizontal_flip = True, # 랜덤하게 50%를 생성\n",
    "                                   width_shift_range = 0.1, # 좌/우 10% 범위 내에서 이동\n",
    "                                   height_shift_range = 0.1, # 상/하 10% 범위 내에서 이동\n",
    "                                   fill_mode = 'nearest')\n",
    "\n",
    "train_generator = train_datagen.flow_from_directory('train',\n",
    "                                                    target_size = (150, 150),\n",
    "                                                    batch_size = BATCH_SIZE,\n",
    "                                                    class_mode = 'binary')\n",
    "\n",
    "test_datagen = ImageDataGenerator(rescale = 1./255)\n",
    "\n",
    "test_generator = test_datagen.flow_from_directory('test',\n",
    "                                                    target_size = (150, 150),\n",
    "                                                    batch_size = BATCH_SIZE,\n",
    "                                                    class_mode = 'binary')"
   ]
  },
  {
   "cell_type": "code",
   "execution_count": 3,
   "id": "47627c00-afdb-4a2c-8894-c57a5e6dff20",
   "metadata": {
    "tags": []
   },
   "outputs": [],
   "source": [
    "transfer_model = VGG16(weights = 'imagenet', include_top = False, input_shape = (150, 150, 3))\n",
    "transfer_model.trainable = False"
   ]
  },
  {
   "cell_type": "code",
   "execution_count": 4,
   "id": "cdd29531-3411-48dc-8675-d7143617fb49",
   "metadata": {
    "tags": []
   },
   "outputs": [
    {
     "name": "stdout",
     "output_type": "stream",
     "text": [
      "Model: \"sequential\"\n",
      "_________________________________________________________________\n",
      "Layer (type)                 Output Shape              Param #   \n",
      "=================================================================\n",
      "vgg16 (Functional)           (None, 4, 4, 512)         14714688  \n",
      "_________________________________________________________________\n",
      "flatten (Flatten)            (None, 8192)              0         \n",
      "_________________________________________________________________\n",
      "dense (Dense)                (None, 64)                524352    \n",
      "_________________________________________________________________\n",
      "activation (Activation)      (None, 64)                0         \n",
      "_________________________________________________________________\n",
      "dropout (Dropout)            (None, 64)                0         \n",
      "_________________________________________________________________\n",
      "dense_1 (Dense)              (None, 1)                 65        \n",
      "_________________________________________________________________\n",
      "activation_1 (Activation)    (None, 1)                 0         \n",
      "=================================================================\n",
      "Total params: 15,239,105\n",
      "Trainable params: 524,417\n",
      "Non-trainable params: 14,714,688\n",
      "_________________________________________________________________\n"
     ]
    }
   ],
   "source": [
    "finetune_model = models.Sequential()\n",
    "finetune_model.add(transfer_model)\n",
    "finetune_model.add(Flatten())\n",
    "finetune_model.add(Dense(64))\n",
    "finetune_model.add(Activation('relu'))\n",
    "finetune_model.add(Dropout(0.5))\n",
    "finetune_model.add(Dense(1))\n",
    "finetune_model.add(Activation('sigmoid'))\n",
    "finetune_model.summary()"
   ]
  },
  {
   "cell_type": "code",
   "execution_count": 5,
   "id": "34e5ab78-6ecb-440e-8f1b-886a9272c444",
   "metadata": {},
   "outputs": [],
   "source": [
    "finetune_model.compile(loss = 'binary_crossentropy',\n",
    "              optimizer = optimizers.Adam(learning_rate = 0.0002),\n",
    "              metrics= ['accuracy'])"
   ]
  },
  {
   "cell_type": "code",
   "execution_count": 6,
   "id": "45f3bb4b-5e41-43af-817a-cbe0e77ffd86",
   "metadata": {},
   "outputs": [],
   "source": [
    "steps_train = len(train_generator)\n",
    "steps_test = len(test_generator)"
   ]
  },
  {
   "cell_type": "code",
   "execution_count": 7,
   "id": "60b6fc82-a504-4030-a677-72c17d42a048",
   "metadata": {},
   "outputs": [
    {
     "name": "stdout",
     "output_type": "stream",
     "text": [
      "Epoch 1/20\n",
      "32/32 [==============================] - 14s 453ms/step - loss: 0.6918 - accuracy: 0.6000 - val_loss: 0.5644 - val_accuracy: 0.7333\n",
      "Epoch 2/20\n",
      "32/32 [==============================] - 14s 449ms/step - loss: 0.5741 - accuracy: 0.7188 - val_loss: 0.5050 - val_accuracy: 0.7917\n",
      "Epoch 3/20\n",
      "32/32 [==============================] - 15s 453ms/step - loss: 0.4730 - accuracy: 0.7688 - val_loss: 0.4214 - val_accuracy: 0.8417\n",
      "Epoch 4/20\n",
      "32/32 [==============================] - 15s 456ms/step - loss: 0.3968 - accuracy: 0.8875 - val_loss: 0.3703 - val_accuracy: 0.8917\n",
      "Epoch 5/20\n",
      "32/32 [==============================] - 15s 456ms/step - loss: 0.3907 - accuracy: 0.8375 - val_loss: 0.3416 - val_accuracy: 0.9083\n",
      "Epoch 6/20\n",
      "32/32 [==============================] - 15s 458ms/step - loss: 0.3344 - accuracy: 0.9000 - val_loss: 0.3089 - val_accuracy: 0.9167\n",
      "Epoch 7/20\n",
      "32/32 [==============================] - 15s 461ms/step - loss: 0.2930 - accuracy: 0.9125 - val_loss: 0.3064 - val_accuracy: 0.8833\n",
      "Epoch 8/20\n",
      "32/32 [==============================] - 15s 461ms/step - loss: 0.2879 - accuracy: 0.8938 - val_loss: 0.2797 - val_accuracy: 0.8917\n",
      "Epoch 9/20\n",
      "32/32 [==============================] - 15s 463ms/step - loss: 0.3176 - accuracy: 0.8875 - val_loss: 0.2667 - val_accuracy: 0.8917\n",
      "Epoch 10/20\n",
      "32/32 [==============================] - 15s 461ms/step - loss: 0.2703 - accuracy: 0.9000 - val_loss: 0.2411 - val_accuracy: 0.9167\n",
      "Epoch 11/20\n",
      "32/32 [==============================] - 15s 461ms/step - loss: 0.2359 - accuracy: 0.9375 - val_loss: 0.2278 - val_accuracy: 0.9167\n",
      "Epoch 12/20\n",
      "32/32 [==============================] - 15s 462ms/step - loss: 0.2417 - accuracy: 0.9187 - val_loss: 0.2140 - val_accuracy: 0.9500\n",
      "Epoch 13/20\n",
      "32/32 [==============================] - 15s 461ms/step - loss: 0.2208 - accuracy: 0.9375 - val_loss: 0.2047 - val_accuracy: 0.9667\n",
      "Epoch 14/20\n",
      "32/32 [==============================] - 15s 463ms/step - loss: 0.1979 - accuracy: 0.9375 - val_loss: 0.1839 - val_accuracy: 0.9417\n",
      "Epoch 15/20\n",
      "32/32 [==============================] - 15s 462ms/step - loss: 0.1736 - accuracy: 0.9438 - val_loss: 0.1786 - val_accuracy: 0.9667\n",
      "Epoch 16/20\n",
      "32/32 [==============================] - 15s 465ms/step - loss: 0.1877 - accuracy: 0.9125 - val_loss: 0.2578 - val_accuracy: 0.8917\n",
      "Epoch 17/20\n",
      "32/32 [==============================] - 15s 468ms/step - loss: 0.1562 - accuracy: 0.9625 - val_loss: 0.1686 - val_accuracy: 0.9250\n",
      "Epoch 18/20\n",
      "32/32 [==============================] - 15s 462ms/step - loss: 0.1852 - accuracy: 0.9500 - val_loss: 0.1623 - val_accuracy: 0.9333\n",
      "Epoch 19/20\n",
      "32/32 [==============================] - 15s 478ms/step - loss: 0.1767 - accuracy: 0.9375 - val_loss: 0.1717 - val_accuracy: 0.9333\n",
      "Epoch 20/20\n",
      "32/32 [==============================] - 15s 470ms/step - loss: 0.1479 - accuracy: 0.9563 - val_loss: 0.1479 - val_accuracy: 0.9500\n"
     ]
    }
   ],
   "source": [
    "history = finetune_model.fit(train_generator,\n",
    "                   steps_per_epoch=steps_train,\n",
    "                   epochs=20,\n",
    "                   validation_data=test_generator,\n",
    "                   validation_steps=steps_test)"
   ]
  },
  {
   "cell_type": "code",
   "execution_count": 11,
   "id": "3e736615-e918-44a9-b627-4457a76a11c9",
   "metadata": {},
   "outputs": [
    {
     "data": {
      "image/png": "[encoded data removed]",
      "text/plain": [
       "<Figure size 432x288 with 1 Axes>"
      ]
     },
     "metadata": {
      "needs_background": "light"
     },
     "output_type": "display_data"
    }
   ],
   "source": [
    "acc= history.history['accuracy']\n",
    "val_acc= history.history['val_accuracy']\n",
    "y_vloss = history.history['val_loss']\n",
    "y_loss = history.history['loss']\n",
    "\n",
    "x_len = np.arange(len(y_loss))\n",
    "plt.plot(x_len, acc, marker='.', c=\"red\", label='Trainset_acc')\n",
    "plt.plot(x_len, val_acc, marker='.', c=\"lightcoral\", label='Testset_acc')\n",
    "plt.plot(x_len, y_vloss, marker='.', c=\"cornflowerblue\", label='Testset_loss')\n",
    "plt.plot(x_len, y_loss, marker='.', c=\"blue\", label='Trainset_loss')\n",
    "\n",
    "plt.legend(loc='upper right') \n",
    "plt.grid()\n",
    "plt.xlabel('epoch')\n",
    "plt.ylabel('loss/acc')\n",
    "plt.show()"
   ]
  },
  {
   "cell_type": "code",
   "execution_count": null,
   "id": "08d46b7a-db21-4ae5-a078-72625ec79c1b",
   "metadata": {},
   "outputs": [],
   "source": []
  }
 ],
 "metadata": {
  "kernelspec": {
   "display_name": "Python 3 (ipykernel)",
   "language": "python",
   "name": "python3"
  },
  "language_info": {
   "codemirror_mode": {
    "name": "ipython",
    "version": 3
   },
   "file_extension": ".py",
   "mimetype": "text/x-python",
   "name": "python",
   "nbconvert_exporter": "python",
   "pygments_lexer": "ipython3",
   "version": "3.8.13"
  }
 },
 "nbformat": 4,
 "nbformat_minor": 5
}
