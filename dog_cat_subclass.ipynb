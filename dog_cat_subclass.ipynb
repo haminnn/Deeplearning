{
 "cells": [
  {
   "cell_type": "code",
   "execution_count": 2,
   "id": "22c6cd06-b895-471a-84ec-f19f02aa7782",
   "metadata": {},
   "outputs": [],
   "source": [
    "import os, shutil"
   ]
  },
  {
   "cell_type": "code",
   "execution_count": 6,
   "id": "7a3d22e7-5db9-4107-b9fb-3d3657f6e3c2",
   "metadata": {},
   "outputs": [],
   "source": [
    "from tensorflow.keras import models, layers\n",
    "import tensorflow as tf\n",
    "\n",
    "model = models.Sequential()\n",
    "model.add(layers.Conv2D(32, (3,3), activation='relu', input_shape=(150, 150, 3)))\n",
    "model.add(layers.MaxPooling2D((2,2)))\n",
    "model.add(layers.Conv2D(64, (3,3), activation='relu'))\n",
    "model.add(layers.MaxPooling2D((2,2)))\n",
    "model.add(layers.Conv2D(128, (3,3), activation='relu'))\n",
    "model.add(layers.MaxPooling2D((2,2)))\n",
    "model.add(layers.Conv2D(128, (3,3), activation='relu'))\n",
    "model.add(layers.MaxPooling2D((2,2)))\n",
    "model.add(layers.Flatten())\n",
    "model.add(layers.Dropout(0.5))\n",
    "model.add(layers.Dense(512, activation='relu'))\n",
    "model.add(layers.Dense(1, activation='sigmoid'))"
   ]
  },
  {
   "cell_type": "code",
   "execution_count": 7,
   "id": "83319dd9-56b8-4d17-ae77-735054851780",
   "metadata": {},
   "outputs": [],
   "source": [
    "model_name = 'CatsAndDogs'\n",
    "batch_size = 20\n",
    "params = { 'model_name' : model_name,\n",
    "          'input_shape' : (150, 150, 3),\n",
    "          'kernel_size' : (3,3),\n",
    "          'fc1_output' : 32,\n",
    "          'fc2_output' : 64,\n",
    "          'fc3_output' : 128,\n",
    "          'fc4_output' : 512,\n",
    "          'fc5_output' : 1,\n",
    "          'dropout_rate' : 0.5,\n",
    "          'pool_size' : (2,2)\n",
    "        }\n",
    "class CasAndDogs(tf.keras.Model):\n",
    "    def __init__(self, **kargs):\n",
    "        super(CasAndDogs, self).__init__(name=kargs['model_name'])\n",
    "        self.fc1 = layers.Conv2D(kargs['fc1_output'], kernel_size = kargs['kernel_size'],\n",
    "                                 input_shape = kargs['input_shape'], activation = 'relu')\n",
    "        self.fc2 = layers.Conv2D(kargs['fc2_output'], kernel_size = kargs['kernel_size'],\n",
    "                                 activation = 'relu')\n",
    "        self.fc3 = layers.Conv2D(kargs['fc3_output'], kernel_size = kargs['kernel_size'],\n",
    "                                 activation = 'relu')\n",
    "        self.fc4 = layers.Dense(kargs['fc4_output'], activation = 'relu')\n",
    "        self.fc5 = layers.Dense(kargs['fc5_output'], activation = 'sigmoid')\n",
    "        self.max_pool = layers.MaxPooling2D(kargs['pool_size'])\n",
    "        self.dropout = layers.Dropout(kargs['dropout_rate'])\n",
    "        self.flatten = layers.Flatten()\n",
    "    \n",
    "    def call(self, x):\n",
    "        x = self.fc1(x)\n",
    "        x = self.max_pool(x)\n",
    "        x = self.fc2(x)\n",
    "        x = self.max_pool(x)\n",
    "        x = self.fc3(x)\n",
    "        x = self.max_pool(x)\n",
    "        x = self.fc3(x)\n",
    "        x = self.max_pool(x)\n",
    "        x = self.flatten(x)\n",
    "        x = self.dropout(x)\n",
    "        x = self.fc4(x)\n",
    "        x = self.fc5(x)\n",
    "        return x"
   ]
  },
  {
   "cell_type": "code",
   "execution_count": 9,
   "id": "1790d69e-029c-471a-9c3d-39c6a37bc76a",
   "metadata": {},
   "outputs": [],
   "source": [
    "model.compile(loss='binary_crossentropy', optimizer='adam', metrics=['accuracy'])"
   ]
  },
  {
   "cell_type": "code",
   "execution_count": 10,
   "id": "3d95a1a2-72fd-4892-85a1-0344430c65b8",
   "metadata": {},
   "outputs": [
    {
     "name": "stdout",
     "output_type": "stream",
     "text": [
      "Model: \"sequential_2\"\n",
      "_________________________________________________________________\n",
      "Layer (type)                 Output Shape              Param #   \n",
      "=================================================================\n",
      "conv2d_8 (Conv2D)            (None, 148, 148, 32)      896       \n",
      "_________________________________________________________________\n",
      "max_pooling2d_8 (MaxPooling2 (None, 74, 74, 32)        0         \n",
      "_________________________________________________________________\n",
      "conv2d_9 (Conv2D)            (None, 72, 72, 64)        18496     \n",
      "_________________________________________________________________\n",
      "max_pooling2d_9 (MaxPooling2 (None, 36, 36, 64)        0         \n",
      "_________________________________________________________________\n",
      "conv2d_10 (Conv2D)           (None, 34, 34, 128)       73856     \n",
      "_________________________________________________________________\n",
      "max_pooling2d_10 (MaxPooling (None, 17, 17, 128)       0         \n",
      "_________________________________________________________________\n",
      "conv2d_11 (Conv2D)           (None, 15, 15, 128)       147584    \n",
      "_________________________________________________________________\n",
      "max_pooling2d_11 (MaxPooling (None, 7, 7, 128)         0         \n",
      "_________________________________________________________________\n",
      "flatten_2 (Flatten)          (None, 6272)              0         \n",
      "_________________________________________________________________\n",
      "dropout_2 (Dropout)          (None, 6272)              0         \n",
      "_________________________________________________________________\n",
      "dense_4 (Dense)              (None, 512)               3211776   \n",
      "_________________________________________________________________\n",
      "dense_5 (Dense)              (None, 1)                 513       \n",
      "=================================================================\n",
      "Total params: 3,453,121\n",
      "Trainable params: 3,453,121\n",
      "Non-trainable params: 0\n",
      "_________________________________________________________________\n"
     ]
    }
   ],
   "source": [
    "model.summary()"
   ]
  },
  {
   "cell_type": "code",
   "execution_count": null,
   "id": "e669d1e2-6727-409e-a405-1db83c50c102",
   "metadata": {},
   "outputs": [],
   "source": []
  }
 ],
 "metadata": {
  "kernelspec": {
   "display_name": "Python 3 (ipykernel)",
   "language": "python",
   "name": "python3"
  },
  "language_info": {
   "codemirror_mode": {
    "name": "ipython",
    "version": 3
   },
   "file_extension": ".py",
   "mimetype": "text/x-python",
   "name": "python",
   "nbconvert_exporter": "python",
   "pygments_lexer": "ipython3",
   "version": "3.8.13"
  }
 },
 "nbformat": 4,
 "nbformat_minor": 5
}
