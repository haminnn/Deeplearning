{
 "cells": [
  {
   "cell_type": "code",
   "execution_count": 1,
   "id": "bff776d8",
   "metadata": {},
   "outputs": [],
   "source": [
    "import tensorflow as tf\n",
    "import numpy as np\n",
    "import matplotlib.pyplot as plt\n",
    "from tensorflow.keras import models, layers, optimizers\n",
    "from tensorflow.keras.applications import VGG16\n",
    "from tensorflow.keras.preprocessing.image import ImageDataGenerator"
   ]
  },
  {
   "cell_type": "code",
   "execution_count": 2,
   "id": "8fe0eb5a",
   "metadata": {},
   "outputs": [
    {
     "name": "stdout",
     "output_type": "stream",
     "text": [
      "Found 160 images belonging to 2 classes.\n",
      "Found 120 images belonging to 2 classes.\n"
     ]
    }
   ],
   "source": [
    "BATCH_SIZE = 5\n",
    "\n",
    "train_datagen = ImageDataGenerator(rescale=1./255,\n",
    "                                  horizontal_flip=True, #랜덤하게 50%를 생성\n",
    "                                  width_shift_range=0.1, #좌/우 10%범위내에서 이동\n",
    "                                  height_shift_range=0.1,\n",
    "                                  fill_mode='nearest')\n",
    "\n",
    "train_generator = train_datagen.flow_from_directory('train',\n",
    "                                                   target_size=(150,150),\n",
    "                                                   batch_size=BATCH_SIZE,\n",
    "                                                   class_mode='binary')\n",
    "\n",
    "test_datagen = ImageDataGenerator(rescale=1./255)\n",
    "\n",
    "test_generator = test_datagen.flow_from_directory('test',\n",
    "                                                   target_size=(150,150),\n",
    "                                                   batch_size=BATCH_SIZE,\n",
    "                                                   class_mode='binary')"
   ]
  },
  {
   "cell_type": "code",
   "execution_count": 3,
   "id": "d91aed37",
   "metadata": {},
   "outputs": [
    {
     "name": "stdout",
     "output_type": "stream",
     "text": [
      "Model: \"vgg16\"\n",
      "_________________________________________________________________\n",
      "Layer (type)                 Output Shape              Param #   \n",
      "=================================================================\n",
      "input_1 (InputLayer)         [(None, 150, 150, 3)]     0         \n",
      "_________________________________________________________________\n",
      "block1_conv1 (Conv2D)        (None, 150, 150, 64)      1792      \n",
      "_________________________________________________________________\n",
      "block1_conv2 (Conv2D)        (None, 150, 150, 64)      36928     \n",
      "_________________________________________________________________\n",
      "block1_pool (MaxPooling2D)   (None, 75, 75, 64)        0         \n",
      "_________________________________________________________________\n",
      "block2_conv1 (Conv2D)        (None, 75, 75, 128)       73856     \n",
      "_________________________________________________________________\n",
      "block2_conv2 (Conv2D)        (None, 75, 75, 128)       147584    \n",
      "_________________________________________________________________\n",
      "block2_pool (MaxPooling2D)   (None, 37, 37, 128)       0         \n",
      "_________________________________________________________________\n",
      "block3_conv1 (Conv2D)        (None, 37, 37, 256)       295168    \n",
      "_________________________________________________________________\n",
      "block3_conv2 (Conv2D)        (None, 37, 37, 256)       590080    \n",
      "_________________________________________________________________\n",
      "block3_conv3 (Conv2D)        (None, 37, 37, 256)       590080    \n",
      "_________________________________________________________________\n",
      "block3_pool (MaxPooling2D)   (None, 18, 18, 256)       0         \n",
      "_________________________________________________________________\n",
      "block4_conv1 (Conv2D)        (None, 18, 18, 512)       1180160   \n",
      "_________________________________________________________________\n",
      "block4_conv2 (Conv2D)        (None, 18, 18, 512)       2359808   \n",
      "_________________________________________________________________\n",
      "block4_conv3 (Conv2D)        (None, 18, 18, 512)       2359808   \n",
      "_________________________________________________________________\n",
      "block4_pool (MaxPooling2D)   (None, 9, 9, 512)         0         \n",
      "_________________________________________________________________\n",
      "block5_conv1 (Conv2D)        (None, 9, 9, 512)         2359808   \n",
      "_________________________________________________________________\n",
      "block5_conv2 (Conv2D)        (None, 9, 9, 512)         2359808   \n",
      "_________________________________________________________________\n",
      "block5_conv3 (Conv2D)        (None, 9, 9, 512)         2359808   \n",
      "_________________________________________________________________\n",
      "block5_pool (MaxPooling2D)   (None, 4, 4, 512)         0         \n",
      "=================================================================\n",
      "Total params: 14,714,688\n",
      "Trainable params: 0\n",
      "Non-trainable params: 14,714,688\n",
      "_________________________________________________________________\n"
     ]
    }
   ],
   "source": [
    "transfer_model = VGG16(weights='imagenet', include_top=False, input_shape=(150,150,3))\n",
    "transfer_model.trainable = False\n",
    "transfer_model.summary()"
   ]
  },
  {
   "cell_type": "code",
   "execution_count": 4,
   "id": "4468488c",
   "metadata": {},
   "outputs": [
    {
     "name": "stdout",
     "output_type": "stream",
     "text": [
      "Model: \"sequential\"\n",
      "_________________________________________________________________\n",
      "Layer (type)                 Output Shape              Param #   \n",
      "=================================================================\n",
      "vgg16 (Functional)           (None, 4, 4, 512)         14714688  \n",
      "_________________________________________________________________\n",
      "flatten (Flatten)            (None, 8192)              0         \n",
      "_________________________________________________________________\n",
      "dense (Dense)                (None, 64)                524352    \n",
      "_________________________________________________________________\n",
      "dense_1 (Dense)              (None, 2)                 130       \n",
      "=================================================================\n",
      "Total params: 15,239,170\n",
      "Trainable params: 524,482\n",
      "Non-trainable params: 14,714,688\n",
      "_________________________________________________________________\n"
     ]
    }
   ],
   "source": [
    "finetune_model = models.Sequential()\n",
    "finetune_model.add(transfer_model)\n",
    "finetune_model.add(layers.Flatten())\n",
    "finetune_model.add(layers.Dense(64, activation='relu'))\n",
    "finetune_model.add(layers.Dense(2, activation='softmax'))\n",
    "finetune_model.summary()"
   ]
  },
  {
   "cell_type": "code",
   "execution_count": 5,
   "id": "bc966cdd",
   "metadata": {},
   "outputs": [
    {
     "name": "stdout",
     "output_type": "stream",
     "text": [
      "Epoch 1/20\n",
      "32/32 [==============================] - 15s 463ms/step - loss: 0.5458 - accuracy: 0.7000 - val_loss: 0.4237 - val_accuracy: 0.7833\n",
      "Epoch 2/20\n",
      "32/32 [==============================] - 14s 448ms/step - loss: 0.3177 - accuracy: 0.8813 - val_loss: 0.2806 - val_accuracy: 0.9167\n",
      "Epoch 3/20\n",
      "32/32 [==============================] - 14s 450ms/step - loss: 0.2495 - accuracy: 0.9563 - val_loss: 0.2292 - val_accuracy: 0.9417\n",
      "Epoch 4/20\n",
      "32/32 [==============================] - 15s 455ms/step - loss: 0.2522 - accuracy: 0.8750 - val_loss: 0.1889 - val_accuracy: 0.9417\n",
      "Epoch 5/20\n",
      "32/32 [==============================] - 15s 455ms/step - loss: 0.1505 - accuracy: 0.9750 - val_loss: 0.1875 - val_accuracy: 0.9417\n",
      "Epoch 6/20\n",
      "32/32 [==============================] - 15s 458ms/step - loss: 0.1501 - accuracy: 0.9563 - val_loss: 0.1549 - val_accuracy: 0.9417\n",
      "Epoch 7/20\n",
      "32/32 [==============================] - 15s 459ms/step - loss: 0.1776 - accuracy: 0.9312 - val_loss: 0.1922 - val_accuracy: 0.9167\n",
      "Epoch 8/20\n",
      "32/32 [==============================] - 15s 462ms/step - loss: 0.1313 - accuracy: 0.9688 - val_loss: 0.1324 - val_accuracy: 0.9583\n",
      "Epoch 9/20\n",
      "32/32 [==============================] - 15s 463ms/step - loss: 0.1150 - accuracy: 0.9688 - val_loss: 0.1858 - val_accuracy: 0.9167\n",
      "Epoch 10/20\n",
      "32/32 [==============================] - 15s 468ms/step - loss: 0.1008 - accuracy: 0.9625 - val_loss: 0.1405 - val_accuracy: 0.9333\n",
      "Epoch 11/20\n",
      "32/32 [==============================] - 15s 466ms/step - loss: 0.0957 - accuracy: 0.9750 - val_loss: 0.1176 - val_accuracy: 0.9500\n",
      "Epoch 12/20\n",
      "32/32 [==============================] - 15s 464ms/step - loss: 0.0852 - accuracy: 0.9750 - val_loss: 0.1121 - val_accuracy: 0.9667\n",
      "Epoch 13/20\n",
      "32/32 [==============================] - 15s 462ms/step - loss: 0.0746 - accuracy: 0.9750 - val_loss: 0.1392 - val_accuracy: 0.9333\n",
      "Epoch 14/20\n",
      "32/32 [==============================] - 15s 460ms/step - loss: 0.0795 - accuracy: 0.9812 - val_loss: 0.1290 - val_accuracy: 0.9500\n",
      "Epoch 15/20\n",
      "32/32 [==============================] - 15s 463ms/step - loss: 0.0661 - accuracy: 0.9937 - val_loss: 0.1064 - val_accuracy: 0.9583\n",
      "Epoch 16/20\n",
      "32/32 [==============================] - 15s 466ms/step - loss: 0.0694 - accuracy: 0.9812 - val_loss: 0.1482 - val_accuracy: 0.9333\n",
      "Epoch 17/20\n",
      "32/32 [==============================] - 15s 472ms/step - loss: 0.0757 - accuracy: 0.9625 - val_loss: 0.1356 - val_accuracy: 0.9500\n",
      "Epoch 18/20\n",
      "32/32 [==============================] - 15s 463ms/step - loss: 0.0657 - accuracy: 0.9812 - val_loss: 0.0867 - val_accuracy: 0.9667\n",
      "Epoch 19/20\n",
      "32/32 [==============================] - 15s 463ms/step - loss: 0.0476 - accuracy: 0.9937 - val_loss: 0.1011 - val_accuracy: 0.9583\n",
      "Epoch 20/20\n",
      "32/32 [==============================] - 15s 482ms/step - loss: 0.0592 - accuracy: 0.9688 - val_loss: 0.0966 - val_accuracy: 0.9583\n"
     ]
    }
   ],
   "source": [
    "finetune_model.compile(loss='sparse_categorical_crossentropy',\n",
    "              optimizer=optimizers.Adam(learning_rate=0.0002),\n",
    "             metrics=['accuracy'])\n",
    "\n",
    "steps_train = len(train_generator)\n",
    "steps_test = len(test_generator)\n",
    "\n",
    "history = finetune_model.fit(train_generator,\n",
    "                   steps_per_epoch=steps_train,\n",
    "                   epochs=20,\n",
    "                   validation_data=test_generator,\n",
    "                   validation_steps=steps_test)"
   ]
  },
  {
   "cell_type": "code",
   "execution_count": 6,
   "id": "ad2df1a7",
   "metadata": {},
   "outputs": [
    {
     "data": {
      "image/png": "[encoded data removed]",
      "text/plain": [
       "<Figure size 432x288 with 1 Axes>"
      ]
     },
     "metadata": {
      "needs_background": "light"
     },
     "output_type": "display_data"
    }
   ],
   "source": [
    "acc= history.history['accuracy']\n",
    "val_acc= history.history['val_accuracy']\n",
    "y_vloss = history.history['val_loss']\n",
    "y_loss = history.history['loss']\n",
    "\n",
    "x_len = np.arange(len(y_loss))  \n",
    "plt.plot(x_len, acc, marker='.', c=\"red\", label='Trainset_acc')\n",
    "plt.plot(x_len, val_acc, marker='.', c=\"lightcoral\", label='Testset_acc')\n",
    "plt.plot(x_len, y_vloss, marker='.', c=\"cornflowerblue\", label='Testset_loss')\n",
    "plt.plot(x_len, y_loss, marker='.', c=\"blue\", label='Trainset_loss')\n",
    "\n",
    "plt.legend(loc='upper right') \n",
    "plt.grid()\n",
    "plt.xlabel('epoch')\n",
    "plt.ylabel('loss/acc')\n",
    "plt.show()"
   ]
  },
  {
   "cell_type": "code",
   "execution_count": null,
   "id": "5218f66c",
   "metadata": {},
   "outputs": [],
   "source": []
  }
 ],
 "metadata": {
  "kernelspec": {
   "display_name": "Python 3 (ipykernel)",
   "language": "python",
   "name": "python3"
  },
  "language_info": {
   "codemirror_mode": {
    "name": "ipython",
    "version": 3
   },
   "file_extension": ".py",
   "mimetype": "text/x-python",
   "name": "python",
   "nbconvert_exporter": "python",
   "pygments_lexer": "ipython3",
   "version": "3.8.13"
  }
 },
 "nbformat": 4,
 "nbformat_minor": 5
}
