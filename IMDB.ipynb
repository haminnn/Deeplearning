{
 "cells": [
  {
   "cell_type": "code",
   "execution_count": 6,
   "id": "5bed9302-9af1-43eb-9e6c-aacbdf1843a7",
   "metadata": {},
   "outputs": [],
   "source": [
    "import numpy as np\n",
    "import matplotlib.pyplot as plt\n",
    "import tensorflow as tf\n",
    "from tensorflow.keras.datasets import imdb\n",
    "from tensorflow.keras import models, layers\n",
    "from tensorflow.keras.preprocessing import sequence\n",
    "from tensorflow.keras import utils"
   ]
  },
  {
   "cell_type": "code",
   "execution_count": 7,
   "id": "a815bb93-ba6e-42f0-af6b-52faca27b8a1",
   "metadata": {},
   "outputs": [],
   "source": [
    "seed = 0\n",
    "np.random.seed(seed)\n",
    "tf.random.set_seed(3)"
   ]
  },
  {
   "cell_type": "code",
   "execution_count": 8,
   "id": "78c67f60-1665-4720-8ec9-1b30ed42bdad",
   "metadata": {},
   "outputs": [
    {
     "name": "stdout",
     "output_type": "stream",
     "text": [
      "Downloading data from https://storage.googleapis.com/tensorflow/tf-keras-datasets/imdb.npz\n",
      "17465344/17464789 [==============================] - 1s 0us/step\n"
     ]
    },
    {
     "name": "stderr",
     "output_type": "stream",
     "text": [
      "<__array_function__ internals>:5: VisibleDeprecationWarning: Creating an ndarray from ragged nested sequences (which is a list-or-tuple of lists-or-tuples-or ndarrays with different lengths or shapes) is deprecated. If you meant to do this, you must specify 'dtype=object' when creating the ndarray\n",
      "C:\\Users\\BIT\\miniconda3\\envs\\tf-env\\lib\\site-packages\\tensorflow\\python\\keras\\datasets\\imdb.py:159: VisibleDeprecationWarning: Creating an ndarray from ragged nested sequences (which is a list-or-tuple of lists-or-tuples-or ndarrays with different lengths or shapes) is deprecated. If you meant to do this, you must specify 'dtype=object' when creating the ndarray\n",
      "  x_train, y_train = np.array(xs[:idx]), np.array(labels[:idx])\n",
      "C:\\Users\\BIT\\miniconda3\\envs\\tf-env\\lib\\site-packages\\tensorflow\\python\\keras\\datasets\\imdb.py:160: VisibleDeprecationWarning: Creating an ndarray from ragged nested sequences (which is a list-or-tuple of lists-or-tuples-or ndarrays with different lengths or shapes) is deprecated. If you meant to do this, you must specify 'dtype=object' when creating the ndarray\n",
      "  x_test, y_test = np.array(xs[idx:]), np.array(labels[idx:])\n"
     ]
    }
   ],
   "source": [
    "(X_train, y_train), (X_test, y_test) = imdb.load_data(num_words = 5000)\n"
   ]
  },
  {
   "cell_type": "code",
   "execution_count": 9,
   "id": "cd8a1731-47b1-4628-a292-22a727f25c13",
   "metadata": {},
   "outputs": [],
   "source": [
    "X_train = sequence.pad_sequences(X_train, maxlen=100)\n",
    "X_test = sequence.pad_sequences(X_test, maxlen=100)"
   ]
  },
  {
   "cell_type": "code",
   "execution_count": 11,
   "id": "0554c5c3-b376-4b93-abbb-bc8ee33a1a80",
   "metadata": {},
   "outputs": [
    {
     "name": "stdout",
     "output_type": "stream",
     "text": [
      "Epoch 1/5\n",
      "250/250 [==============================] - 14s 56ms/step - loss: 0.4474 - accuracy: 0.7728 - val_loss: 0.3589 - val_accuracy: 0.8456\n",
      "Epoch 2/5\n",
      "250/250 [==============================] - 14s 54ms/step - loss: 0.2968 - accuracy: 0.8751 - val_loss: 0.3319 - val_accuracy: 0.8573\n",
      "Epoch 3/5\n",
      "250/250 [==============================] - 13s 53ms/step - loss: 0.2554 - accuracy: 0.8950 - val_loss: 0.3305 - val_accuracy: 0.8577\n",
      "Epoch 4/5\n",
      "250/250 [==============================] - 13s 54ms/step - loss: 0.2154 - accuracy: 0.9134 - val_loss: 0.3345 - val_accuracy: 0.8542\n",
      "Epoch 5/5\n",
      "250/250 [==============================] - 14s 54ms/step - loss: 0.1834 - accuracy: 0.9299 - val_loss: 0.3592 - val_accuracy: 0.8541\n"
     ]
    }
   ],
   "source": [
    "model = models.Sequential()\n",
    "model.add(layers.Embedding(5000,100))\n",
    "model.add(layers.Dropout(0.5))\n",
    "model.add(layers.Conv1D(64, 5, padding = 'valid', activation = 'relu'))\n",
    "model.add(layers.MaxPooling1D(pool_size = 4))\n",
    "model.add(layers.LSTM(55))\n",
    "model.add(layers.Dense(1))\n",
    "model.add(layers.Activation('sigmoid'))\n",
    "\n",
    "model.compile(loss = 'binary_crossentropy', optimizer = 'adam', metrics = ['accuracy'])\n",
    "\n",
    "history = model.fit(X_train, y_train, batch_size = 100, epochs = 5, validation_data = (X_test,y_test))"
   ]
  },
  {
   "cell_type": "code",
   "execution_count": 12,
   "id": "5c7fa6ac-aef5-47fb-a56d-11eb102273c5",
   "metadata": {},
   "outputs": [
    {
     "name": "stdout",
     "output_type": "stream",
     "text": [
      "782/782 [==============================] - 4s 5ms/step - loss: 0.3592 - accuracy: 0.8541\n",
      "Test Accuracy: 0.8541\n"
     ]
    }
   ],
   "source": [
    "print('Test Accuracy: %.4f' % (model.evaluate(X_test,y_test)[1]))"
   ]
  },
  {
   "cell_type": "code",
   "execution_count": null,
   "id": "87315921-bb98-4a80-b398-039417a5abb6",
   "metadata": {},
   "outputs": [],
   "source": []
  }
 ],
 "metadata": {
  "kernelspec": {
   "display_name": "Python 3 (ipykernel)",
   "language": "python",
   "name": "python3"
  },
  "language_info": {
   "codemirror_mode": {
    "name": "ipython",
    "version": 3
   },
   "file_extension": ".py",
   "mimetype": "text/x-python",
   "name": "python",
   "nbconvert_exporter": "python",
   "pygments_lexer": "ipython3",
   "version": "3.8.13"
  }
 },
 "nbformat": 4,
 "nbformat_minor": 5
}
