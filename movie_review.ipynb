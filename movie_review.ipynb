{
 "cells": [
  {
   "cell_type": "code",
   "execution_count": 1,
   "id": "a14421d8-7c07-49e3-a69c-236ed45f90c4",
   "metadata": {},
   "outputs": [],
   "source": [
    "import tensorflow as tf\n",
    "from tensorflow.keras import layers, models\n",
    "from tensorflow.keras.preprocessing.sequence import pad_sequences\n",
    "from tensorflow.keras.callbacks import EarlyStopping, ModelCheckpoint\n",
    "import numpy as np\n",
    "import pandas as pd\n",
    "import matplotlib.pyplot as plt\n",
    "import os\n",
    "import json"
   ]
  },
  {
   "cell_type": "code",
   "execution_count": 2,
   "id": "f836df6f-444b-4408-897d-abda991a534d",
   "metadata": {},
   "outputs": [],
   "source": [
    "def plot_graphs(history, string):\n",
    "    plt.plot(history.history[string])\n",
    "    plt.plot(history.history['val_' + string], '')\n",
    "    plt.xlabel(\"Epochs\")\n",
    "    plt.ylabel(string)\n",
    "    plt.legend([string, 'val_', string])\n",
    "    plt.show()"
   ]
  },
  {
   "cell_type": "code",
   "execution_count": 3,
   "id": "4b879fd9-eefe-4bd6-bfaf-2d8760e7406b",
   "metadata": {},
   "outputs": [],
   "source": [
    "DATA_IN_PATH = 'data-in/'\n",
    "DATA_OUT_PATH = 'data-out/'\n",
    "INPUT_TRAIN_DATA = 'nsmc_train_input.npy'\n",
    "LABEL_TRAIN_DATA = 'nsmc_train_label.npy'\n",
    "DATA_CONFIG = 'nsmc_data_configs.json'"
   ]
  },
  {
   "cell_type": "code",
   "execution_count": 4,
   "id": "fe255d19-330f-485e-b4c1-a5ea5fb656ab",
   "metadata": {},
   "outputs": [],
   "source": [
    "SEED_NUM = 1234\n",
    "tf.random.set_seed(SEED_NUM)"
   ]
  },
  {
   "cell_type": "code",
   "execution_count": 5,
   "id": "46021a58-2fdb-4dc2-b464-f81c560e8ca7",
   "metadata": {},
   "outputs": [],
   "source": [
    "train_input = np.load(open(DATA_IN_PATH + INPUT_TRAIN_DATA, 'rb'))\n",
    "train_label = np.load(open(DATA_IN_PATH + LABEL_TRAIN_DATA, 'rb'))\n",
    "prepro_configs = json.load(open(DATA_IN_PATH + DATA_CONFIG, 'r'))"
   ]
  },
  {
   "cell_type": "code",
   "execution_count": 6,
   "id": "8c690f4d-13a3-4456-8688-1ed40161e481",
   "metadata": {},
   "outputs": [
    {
     "name": "stdout",
     "output_type": "stream",
     "text": [
      "(150000, 8)\n"
     ]
    }
   ],
   "source": [
    "print(train_input.shape)"
   ]
  },
  {
   "cell_type": "code",
   "execution_count": 7,
   "id": "e18d3813-c969-4154-82ee-922183417bee",
   "metadata": {},
   "outputs": [],
   "source": [
    "model_name = 'cnn_classifier_kr'\n",
    "BATCH_SIZE = 512\n",
    "NUM_EPOCHS = 10\n",
    "VALID_SPLIT = 0.1\n",
    "MAX_LEN = train_input.shape[1] # 8을 집어넣은 것\n",
    "kargs = {'model_name': model_name,\n",
    "        'vocab_size': prepro_configs['vocab_size'],\n",
    "        'embedding_size': 128,\n",
    "        'num_filters': 100,\n",
    "        'dropout_rate': 0.5,\n",
    "        'hidden_dimension': 250,\n",
    "        'output_dimension': 1} # 파라미터 정의"
   ]
  },
  {
   "cell_type": "code",
   "execution_count": 8,
   "id": "b58aac2d-1484-445f-bcbe-ac939917da54",
   "metadata": {},
   "outputs": [],
   "source": [
    "class CNNClassifier(tf.keras.Model):\n",
    "    def __init__(self, **kargs):\n",
    "        super(CNNClassifier, self).__init__(name=kargs['model_name'])\n",
    "        self.embedding = layers.Embedding(input_dim=kargs['vocab_size'] + 1,\n",
    "                                          output_dim = kargs['embedding_size'])\n",
    "        self.conv_list = [layers.Conv1D(kargs['num_filters'], kernel_size = kernel_size,\n",
    "                                        padding = 'valid', activation = 'relu', # 값이 안날라가기 위해 padding 값을 valid로 준다\n",
    "                                        kernel_constraint = tf.keras.constraints.MaxNorm(max_value=3.)) #가중치 값이 넘치지 않게 제약조건을 걸어준다.\n",
    "                          for kernel_size in [3, 4, 5]]\n",
    "        self.pooling = layers.GlobalMaxPooling1D() # 풀사이즈가 있는 것이 아니고 전체에서 최대값을 뽑아내는 것이다.\n",
    "        self.dropout = layers.Dropout(kargs['dropout_rate'])\n",
    "        self.fc1 = layers.Dense(kargs['hidden_dimension'], activation = 'relu',\n",
    "                                kernel_constraint = tf.keras.constraints.MaxNorm(max_value=3.))\n",
    "        self.fc2 = layers.Dense(kargs['output_dimension'], activation = 'sigmoid',\n",
    "                                kernel_constraint = tf.keras.constraints.MaxNorm(max_value=3.))\n",
    "    \n",
    "    def call(self, x):\n",
    "        x = self.embedding(x)\n",
    "        x = self.dropout(x)\n",
    "        x = tf.concat([self.pooling(conv(x)) for conv in self.conv_list], axis = -1)\n",
    "        x = self.fc1(x)\n",
    "        x = self.fc2(x)\n",
    "        return x"
   ]
  },
  {
   "cell_type": "code",
   "execution_count": 9,
   "id": "5a814e78-0709-4a83-bf56-eef70360779e",
   "metadata": {},
   "outputs": [],
   "source": [
    "model = CNNClassifier(**kargs)\n",
    "model.compile(loss='binary_crossentropy', optimizer = 'adam', metrics = ['accuracy'])"
   ]
  },
  {
   "cell_type": "code",
   "execution_count": 10,
   "id": "6add1782-27e4-46d0-a50b-9b14e9c9bd4a",
   "metadata": {},
   "outputs": [],
   "source": [
    "earlystop = EarlyStopping(monitor = 'val_accuracy', min_delta = 0.0001, patience = 3)\n",
    "checkpoint_path = DATA_OUT_PATH +model_name + '/weights.h5'\n",
    "checkpoint_dir = os.path.dirname(checkpoint_path)\n",
    "\n",
    "if not os.path.exists(checkpoint_dir):\n",
    "    os.makedirs(checkpoint_dir)\n",
    "\n",
    "checkpoint = ModelCheckpoint(checkpoint_path, monitor = 'val_accuracy', verbose = 1, save_best_only = True, save_weights_only = True)"
   ]
  },
  {
   "cell_type": "code",
   "execution_count": 11,
   "id": "de9cab5a-c1fc-4813-a61e-2405ebabf848",
   "metadata": {},
   "outputs": [
    {
     "name": "stdout",
     "output_type": "stream",
     "text": [
      "Epoch 1/10\n",
      "264/264 [==============================] - ETA: 0s - loss: 0.4584 - accuracy: 0.7749\n",
      "Epoch 00001: val_accuracy improved from -inf to 0.82027, saving model to data-out/cnn_classifier_kr\\weights.h5\n",
      "264/264 [==============================] - 21s 79ms/step - loss: 0.4584 - accuracy: 0.7749 - val_loss: 0.3952 - val_accuracy: 0.8203\n",
      "Epoch 2/10\n",
      "264/264 [==============================] - ETA: 0s - loss: 0.3529 - accuracy: 0.8451\n",
      "Epoch 00002: val_accuracy improved from 0.82027 to 0.82580, saving model to data-out/cnn_classifier_kr\\weights.h5\n",
      "264/264 [==============================] - 20s 76ms/step - loss: 0.3529 - accuracy: 0.8451 - val_loss: 0.3872 - val_accuracy: 0.8258\n",
      "Epoch 3/10\n",
      "264/264 [==============================] - ETA: 0s - loss: 0.3016 - accuracy: 0.8729\n",
      "Epoch 00003: val_accuracy did not improve from 0.82580\n",
      "264/264 [==============================] - 20s 76ms/step - loss: 0.3016 - accuracy: 0.8729 - val_loss: 0.3975 - val_accuracy: 0.8223\n",
      "Epoch 4/10\n",
      "264/264 [==============================] - ETA: 0s - loss: 0.2571 - accuracy: 0.8931\n",
      "Epoch 00004: val_accuracy did not improve from 0.82580\n",
      "264/264 [==============================] - 20s 74ms/step - loss: 0.2571 - accuracy: 0.8931 - val_loss: 0.4294 - val_accuracy: 0.8175\n",
      "Epoch 5/10\n",
      "264/264 [==============================] - ETA: 0s - loss: 0.2221 - accuracy: 0.9089\n",
      "Epoch 00005: val_accuracy did not improve from 0.82580\n",
      "264/264 [==============================] - 20s 75ms/step - loss: 0.2221 - accuracy: 0.9089 - val_loss: 0.4383 - val_accuracy: 0.8189\n"
     ]
    }
   ],
   "source": [
    "history = model.fit(train_input, train_label, batch_size = BATCH_SIZE, epochs = NUM_EPOCHS, \n",
    "                    validation_split = VALID_SPLIT, callbacks = [earlystop, checkpoint])"
   ]
  },
  {
   "cell_type": "code",
   "execution_count": 12,
   "id": "81f55d07-2db0-41b2-9781-8b874858be31",
   "metadata": {},
   "outputs": [
    {
     "data": {
      "image/png": "[encoded data removed]",
      "text/plain": [
       "<Figure size 432x288 with 1 Axes>"
      ]
     },
     "metadata": {
      "needs_background": "light"
     },
     "output_type": "display_data"
    }
   ],
   "source": [
    "plot_graphs(history, 'accuracy')"
   ]
  },
  {
   "cell_type": "code",
   "execution_count": 13,
   "id": "4a0ea412-7be6-4df5-9517-2697c08808b9",
   "metadata": {},
   "outputs": [],
   "source": [
    "DATA_OUT_PATH = 'data-out/'\n",
    "INPUT_TEST_DATA = 'nsmc_test_input.npy'\n",
    "LABEL_TEST_DATA = 'nsmc_test_label.npy'\n",
    "SAVE_FILE_NM = 'weights.h5'\n",
    "\n",
    "test_input = np.load(open(DATA_IN_PATH + INPUT_TEST_DATA, 'rb'))\n",
    "test_label = np.load(open(DATA_IN_PATH + LABEL_TEST_DATA, 'rb'))"
   ]
  },
  {
   "cell_type": "code",
   "execution_count": 14,
   "id": "88d2e655-5976-4f28-8a4d-d36b333c5da4",
   "metadata": {},
   "outputs": [
    {
     "name": "stdout",
     "output_type": "stream",
     "text": [
      "1563/1563 [==============================] - 2s 1ms/step - loss: 0.3876 - accuracy: 0.8263\n"
     ]
    },
    {
     "data": {
      "text/plain": [
       "[0.3875744938850403, 0.8263199925422668]"
      ]
     },
     "execution_count": 14,
     "metadata": {},
     "output_type": "execute_result"
    }
   ],
   "source": [
    "model.load_weights(os.path.join(DATA_OUT_PATH, model_name, SAVE_FILE_NM))\n",
    "\n",
    "model.evaluate(test_input, test_label)"
   ]
  },
  {
   "cell_type": "code",
   "execution_count": null,
   "id": "f1308062-9370-4f5c-9324-f594fc494d46",
   "metadata": {},
   "outputs": [],
   "source": []
  }
 ],
 "metadata": {
  "kernelspec": {
   "display_name": "Python 3 (ipykernel)",
   "language": "python",
   "name": "python3"
  },
  "language_info": {
   "codemirror_mode": {
    "name": "ipython",
    "version": 3
   },
   "file_extension": ".py",
   "mimetype": "text/x-python",
   "name": "python",
   "nbconvert_exporter": "python",
   "pygments_lexer": "ipython3",
   "version": "3.8.13"
  }
 },
 "nbformat": 4,
 "nbformat_minor": 5
}
